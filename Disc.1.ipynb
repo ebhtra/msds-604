{
 "cells": [
  {
   "cell_type": "markdown",
   "metadata": {},
   "source": [
    "## Simulate 1000 games of War, 2-player, to see how long it takes"
   ]
  },
  {
   "cell_type": "markdown",
   "metadata": {},
   "source": [
    "The card game called \"War\" is a notorious way to kill time without thinking too much.  There is no point where a player gets to make a decision that alters the outcome.  Yet it can drag on seemingly forever, creating the illusion that something actually happened.  How long would a 2-player game be expected to last?  You could measure the number of times players need to shuffle the cards they've won in order to replenish their empty hands.  That's one of the most annoying parts of any card game, and as such, may provide a good measure of the agony of \"War\"."
   ]
  },
  {
   "cell_type": "code",
   "execution_count": 1,
   "metadata": {},
   "outputs": [],
   "source": [
    "import numpy as np\n",
    "import matplotlib.pyplot as plt"
   ]
  },
  {
   "cell_type": "code",
   "execution_count": 10,
   "metadata": {},
   "outputs": [],
   "source": [
    "n_shuffle = []\n",
    "n_battles = []\n",
    "deck = np.append(np.repeat(range(13), 4), [13, 13]) # add two 13's for Jokers"
   ]
  },
  {
   "cell_type": "code",
   "execution_count": 18,
   "metadata": {},
   "outputs": [],
   "source": [
    "def war(deck, seed=0):\n",
    "    np.random.seed(seed)\n",
    "    cards = len(deck)\n",
    "    deck = list(deck)\n",
    "    np.random.shuffle(deck)\n",
    "    shufs = 1\n",
    "    battles = 0\n",
    "    hand1 = deck[:int(cards/2)]\n",
    "    hand2 = deck[int(cards/2):]\n",
    "    discard1 = []\n",
    "    discard2 = []\n",
    "    \n",
    "    while (hand1 or discard1) and (hand2 or discard2):\n",
    "        battles += 1\n",
    "        i = 1  # find the index that will determine the winner of the battle\n",
    "        if not hand1:  # shuffle the cards won so far, to refill an empty hand\n",
    "            np.random.shuffle(discard1)\n",
    "            shufs += 1\n",
    "            hand1 = discard1[:]\n",
    "            discard1 = []\n",
    "        if not hand2:\n",
    "            np.random.shuffle(discard2)\n",
    "            shufs += 1\n",
    "            hand2 = discard2[:]\n",
    "            discard2 = []\n",
    "            \n",
    "        smallhand = min(len(hand1), len(hand2))\n",
    "        \n",
    "        while i <= smallhand and hand1[-i] == hand2[-i]:  # in case of wars\n",
    "            i += 4\n",
    "            battles += 1\n",
    "            if len(hand1) < i: \n",
    "                np.random.shuffle(discard1)\n",
    "                hand1 = discard1 + hand1\n",
    "                shufs += 1\n",
    "                discard1 = []\n",
    "                smallhand = min(len(hand1), len(hand2))\n",
    "            if len(hand2) < i: \n",
    "                np.random.shuffle(discard2) \n",
    "                hand2 = discard2 + hand2\n",
    "                shufs += 1\n",
    "                discard2 = []\n",
    "                smallhand = min(len(hand1), len(hand2))\n",
    "        i = min(smallhand, i)  # in case someone has all cards in on epic war\n",
    "        if hand1[-i] == hand2[-i]: # tie, send all cards back where they came from\n",
    "            discard1.extend(hand1[-i:])\n",
    "            discard2.extend(hand2[-i:])\n",
    "        elif hand1[-i] > hand2[-i]:\n",
    "            discard1.extend(hand1[-i:] + hand2[-i:])\n",
    "        else:\n",
    "            discard2.extend(hand1[-i:] + hand2[-i:])\n",
    "        \n",
    "        hand1 = hand1[:-i]\n",
    "        hand2 = hand2[:-i]\n",
    "        \n",
    "    return shufs, battles\n",
    "    "
   ]
  },
  {
   "cell_type": "code",
   "execution_count": 19,
   "metadata": {},
   "outputs": [],
   "source": [
    "n_sims = 1000\n",
    "\n",
    "for s in range(n_sims):\n",
    "    shuf, bat = war(deck[:], s)\n",
    "    n_shuffle.append(shuf)\n",
    "    n_battles.append(bat)"
   ]
  },
  {
   "cell_type": "code",
   "execution_count": 24,
   "metadata": {},
   "outputs": [
    {
     "name": "stdout",
     "output_type": "stream",
     "text": [
      "The average number of shuffles per game was 37.06\n"
     ]
    }
   ],
   "source": [
    "print(f\"The average number of shuffles per game was {round(np.mean(n_shuffle), 2)}\")"
   ]
  },
  {
   "cell_type": "code",
   "execution_count": 25,
   "metadata": {},
   "outputs": [
    {
     "name": "stdout",
     "output_type": "stream",
     "text": [
      "The average number of battles per game was 322.4\n"
     ]
    }
   ],
   "source": [
    "print(f\"The average number of battles per game was {round(np.mean(n_battles), 2)}\")"
   ]
  },
  {
   "cell_type": "code",
   "execution_count": 23,
   "metadata": {},
   "outputs": [
    {
     "data": {
      "image/png": "[encoded data removed]",
      "text/plain": [
       "<Figure size 432x288 with 1 Axes>"
      ]
     },
     "metadata": {
      "needs_background": "light"
     },
     "output_type": "display_data"
    }
   ],
   "source": [
    "plt.hist(n_shuffle, bins=20)\n",
    "plt.title(\"Number of shuffles needed each game\")\n",
    "plt.ylabel(\"Game Count\");"
   ]
  },
  {
   "cell_type": "code",
   "execution_count": null,
   "metadata": {},
   "outputs": [],
   "source": []
  }
 ],
 "metadata": {
  "kernelspec": {
   "display_name": "Python 3",
   "language": "python",
   "name": "python3"
  },
  "language_info": {
   "codemirror_mode": {
    "name": "ipython",
    "version": 3
   },
   "file_extension": ".py",
   "mimetype": "text/x-python",
   "name": "python",
   "nbconvert_exporter": "python",
   "pygments_lexer": "ipython3",
   "version": "3.7.4"
  }
 },
 "nbformat": 4,
 "nbformat_minor": 2
}
