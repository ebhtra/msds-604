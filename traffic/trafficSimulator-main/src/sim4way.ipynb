{
 "cells": [
  {
   "cell_type": "markdown",
   "metadata": {},
   "source": [
    "# Simulating Vehicles Passing Through a 4-way Stop Sign"
   ]
  },
  {
   "cell_type": "markdown",
   "metadata": {},
   "source": [
    "Final Project by Ethan Haley\n",
    "for Dr. Fulton's CUNY SPS DATA 604 Summer '22"
   ]
  },
  {
   "cell_type": "markdown",
   "metadata": {},
   "source": [
    "## Part 1 -- Simulating a flow into a 4-way stop sign intersection"
   ]
  },
  {
   "cell_type": "markdown",
   "metadata": {},
   "source": [
    "The idea here is to create and visualize the flow of stochastically generated vehicles into and through a common intersection.  First and foremost, my project is built upon Bilal Himite's traffic visualization code repository here \n",
    "\n",
    "https://github.com/BilHim/trafficSimulator\n",
    "\n",
    "which that author presents in a blog post here\n",
    "\n",
    "https://towardsdatascience.com/simulating-traffic-flow-in-python-ee1eab4dd20f"
   ]
  },
  {
   "cell_type": "markdown",
   "metadata": {},
   "source": [
    "A large component of Professor Larry Fulton's 604 course is the verification of simulations, and so I approached this project from the standpoint of using visualizations to verify what was happening and why. \"I'll believe it when I see it\", in a nutshell.  We may not know what some simulations should look like, but most of us have sat at enough stop signs to have had the time to analyze them thoroughly and know what the traffic flow looks like. \n",
    "\n",
    "The previously mentioned repo that I used as the basis for my project was written by an engineer who understands the physics of motion very well, and who provides a very nice scaffolding for visualization of motion.  It's based on the  \"intelligent driver model\" described in 2000 by Treiber, Hennecke, and Helbing here https://journals.aps.org/pre/abstract/10.1103/PhysRevE.62.1805 . \n",
    "\n",
    "The idea is to model every vehicle as an individual Agent who has their own driving preferences but is often constrained by the car in front of them."
   ]
  },
  {
   "cell_type": "markdown",
   "metadata": {},
   "source": [
    "For example, here is a snapshot in time of one of my simulated intersections:"
   ]
  },
  {
   "cell_type": "markdown",
   "metadata": {},
   "source": [
    "<img src='trafficSimulator/SIM_1_42s.png' width=\"600\" height=\"600\">"
   ]
  },
  {
   "cell_type": "markdown",
   "metadata": {},
   "source": [
    "The yellow car facing North on the South side of the intersection is waiting in a queue with the other yellow car.  The green car heading West through the intersection has just been released from the queue and now has no one in front of it, so it is accelerating at its desired rate.  When it clears the way in a second, the two yellow cars will have to figure out who gets to join the Westward route first behind the green car, since they both have their signals on indicating that they will be turning that same direction.  \n",
    "\n",
    "The author of the code that I based this on used timed stoplights that released everyone on a road at once, for a set amount of time, and allowed them to collide freely, since that was not the topic of interest in his project.  So my task was to figure out the logic of managing the vehicles in a situation that turns out to be very different from a stoplight, surprisingly.  "
   ]
  },
  {
   "cell_type": "markdown",
   "metadata": {},
   "source": [
    "### Why simulate this Agent-Agent interaction?"
   ]
  },
  {
   "cell_type": "markdown",
   "metadata": {},
   "source": [
    "From an immediate standpoint, the goal was to simulate how cars entered the intersection area and how that affected the flow through the crossroads and onward.  A random Poisson distribution that might model the timing of cars entering the road off-screen becomes a very different distribution a couple of blocks later, when different drivers have interacted and are preparing to stop at the 4-way.  I wanted to see how different driving styles affected the overall traffic movement.  This of course proved to be too complex for me!  But I was at least able to simulate a new semi-random flow into the intersection under a variety of parameters, and the point is to use those distributions as input to a SimPy model that will control the movement through the intersection in an analyzable manner."
   ]
  },
  {
   "cell_type": "markdown",
   "metadata": {},
   "source": [
    "Here is the \"intelligent driver model\" used to explain how independent driver Agents act in a group:"
   ]
  },
  {
   "cell_type": "markdown",
   "metadata": {},
   "source": [
    "<img src='trafficSimulator/TrafficFlowChart.png' width=\"600\" height=\"600\">"
   ]
  },
  {
   "cell_type": "code",
   "execution_count": null,
   "metadata": {},
   "outputs": [],
   "source": []
  },
  {
   "cell_type": "code",
   "execution_count": null,
   "metadata": {},
   "outputs": [],
   "source": [
    "import pandas as pd\n",
    "import numpy as np\n",
    "import simpy as sp\n",
    "from trafficSimulator import *"
   ]
  },
  {
   "cell_type": "code",
   "execution_count": null,
   "metadata": {},
   "outputs": [],
   "source": [
    "sim = Simulation()\n",
    "np.random.seed(604)\n",
    "# The road layout is shaped with these\n",
    "n = 12   # how many straight segments to a turn (higher is more circular/smoother)\n",
    "a = 2    # affects the width of the roads\n",
    "b = 8   # adds curvature to the corners\n",
    "l = 180  # makes the window a smaller square (smaller = shorter roads). \n",
    "        ### I'm making it high to bunch together incoming cars more, before we see them, in a stab at reality\n",
    "\n",
    "# Nodes   ----> \"right\" and \"left\" orient to the way the compass point is driving towards the center\n",
    "WEST_RIGHT_START = (-b-l, a)\n",
    "WEST_LEFT_START = (-b-l, -a)\n",
    "\n",
    "SOUTH_RIGHT_START = (a, b+l)\n",
    "SOUTH_LEFT_START = (-a, b+l)\n",
    "\n",
    "EAST_RIGHT_START = (b+l, -a)\n",
    "EAST_LEFT_START = (b+l, a)\n",
    "\n",
    "NORTH_RIGHT_START = (-a, -b-l)\n",
    "NORTH_LEFT_START = (a, -b-l)\n",
    "\n",
    "\n",
    "WEST_RIGHT = (-b, a)\n",
    "WEST_LEFT =\t(-b, -a)\n",
    "\n",
    "SOUTH_RIGHT = (a, b)\n",
    "SOUTH_LEFT = (-a, b)\n",
    "\n",
    "EAST_RIGHT = (b, -a)\n",
    "EAST_LEFT = (b, a)\n",
    "\n",
    "NORTH_RIGHT = (-a, -b)\n",
    "NORTH_LEFT = (a, -b)\n",
    "\n",
    "# Roads\n",
    "WEST_INBOUND = (WEST_RIGHT_START, WEST_RIGHT)\n",
    "SOUTH_INBOUND = (SOUTH_RIGHT_START, SOUTH_RIGHT)\n",
    "EAST_INBOUND = (EAST_RIGHT_START, EAST_RIGHT)\n",
    "NORTH_INBOUND = (NORTH_RIGHT_START, NORTH_RIGHT)\n",
    "\n",
    "WEST_OUTBOUND = (WEST_LEFT, WEST_LEFT_START)\n",
    "SOUTH_OUTBOUND = (SOUTH_LEFT, SOUTH_LEFT_START)\n",
    "EAST_OUTBOUND = (EAST_LEFT, EAST_LEFT_START)\n",
    "NORTH_OUTBOUND = (NORTH_LEFT, NORTH_LEFT_START)\n",
    "\n",
    "WEST_STRAIGHT = (WEST_RIGHT, EAST_LEFT)\n",
    "SOUTH_STRAIGHT = (SOUTH_RIGHT, NORTH_LEFT)\n",
    "EAST_STRAIGHT = (EAST_RIGHT, WEST_LEFT)\n",
    "NORTH_STRAIGHT = (NORTH_RIGHT, SOUTH_LEFT)\n",
    "\n",
    "WEST_RIGHT_TURN = turn_road(WEST_RIGHT, SOUTH_LEFT, TURN_RIGHT, n)\n",
    "WEST_LEFT_TURN = turn_road(WEST_RIGHT, NORTH_LEFT, TURN_LEFT, n)\n",
    "\n",
    "SOUTH_RIGHT_TURN = turn_road(SOUTH_RIGHT, EAST_LEFT, TURN_RIGHT, n)\n",
    "SOUTH_LEFT_TURN = turn_road(SOUTH_RIGHT, WEST_LEFT, TURN_LEFT, n)\n",
    "\n",
    "EAST_RIGHT_TURN = turn_road(EAST_RIGHT, NORTH_LEFT, TURN_RIGHT, n)\n",
    "EAST_LEFT_TURN = turn_road(EAST_RIGHT, SOUTH_LEFT, TURN_LEFT, n)\n",
    "\n",
    "NORTH_RIGHT_TURN = turn_road(NORTH_RIGHT, WEST_LEFT, TURN_RIGHT, n)\n",
    "NORTH_LEFT_TURN = turn_road(NORTH_RIGHT, EAST_LEFT, TURN_LEFT, n)\n",
    "\n",
    "sim.create_roads([\n",
    "    WEST_INBOUND,\n",
    "    SOUTH_INBOUND,\n",
    "    EAST_INBOUND,\n",
    "    NORTH_INBOUND,\n",
    "\n",
    "    WEST_OUTBOUND,\n",
    "    SOUTH_OUTBOUND,\n",
    "    EAST_OUTBOUND,\n",
    "    NORTH_OUTBOUND,\n",
    "\n",
    "    WEST_STRAIGHT,\n",
    "    SOUTH_STRAIGHT,\n",
    "    EAST_STRAIGHT,\n",
    "    NORTH_STRAIGHT,\n",
    "\n",
    "    *WEST_RIGHT_TURN,  # so this is n little roads\n",
    "    *WEST_LEFT_TURN,   # and this is too\n",
    "\n",
    "    *SOUTH_RIGHT_TURN,\n",
    "    *SOUTH_LEFT_TURN,\n",
    "\n",
    "    *EAST_RIGHT_TURN,\n",
    "    *EAST_LEFT_TURN,\n",
    "\n",
    "    *NORTH_RIGHT_TURN,\n",
    "    *NORTH_LEFT_TURN\n",
    "])\n",
    "\n",
    "def road(a):\n",
    "    # build many (n, from above, to be precise) small roads to model a turn\n",
    "    return range(a, a+n)    \n",
    "\n",
    "sim.create_gen({\n",
    "'vehicle_rate': 40,\n",
    "'vehicles':[\n",
    "    [3, {'path': [0, 8, 6], 'direction': 'STRAIGHT'}],   # [WEST_INBOUND, WEST_STRAIGHT, EAST_OUTBOUND],  from above roads array\n",
    "    [1, {'path': [0, *road(12), 5], 'direction': 'RIGHT'}],   # [WEST_INBOUND, *WEST_RIGHT_TURN, SOUTH_OUTBOUND],  from above roads array\n",
    "    [1, {'path': [0, *road(12+n), 7], 'direction': 'LEFT'}],   # [WEST_INBOUND, *WEST_LEFT_TURN, NORTH_OUTBOUND],  from above roads array\n",
    "\n",
    "    [3, {'path': [1, 9, 7], 'direction': 'STRAIGHT'}],   # [SOUTH_INBOUND, SOUTH_STRAIGHT, NORTH_OUTBOUND]\n",
    "    [1, {'path': [1, *road(12+2*n), 6], 'direction': 'RIGHT'}],   # etc\n",
    "    [1, {'path': [1, *road(12+3*n), 4], 'direction': 'LEFT'}],\n",
    "\n",
    "\n",
    "    [3, {'path': [2, 10, 4], 'direction': 'STRAIGHT'}],  # [EAST_INBOUND, EAST_STRAIGHT, EAST_OUTBOUND]\n",
    "    [1, {'path': [2, *road(12+4*n), 7], 'direction': 'RIGHT'}],  # etc\n",
    "    [1, {'path': [2, *road(12+5*n), 5], 'direction': 'LEFT'}],\n",
    "\n",
    "    [3, {'path': [3, 11, 5], 'direction': 'STRAIGHT'}],  # [NORTH_INBOUND, etc]\n",
    "    [1, {'path': [3, *road(12+6*n), 4], 'direction': 'RIGHT'}],\n",
    "    [1, {'path': [3, *road(12+7*n), 6], 'direction': 'LEFT'}]\n",
    "]})\n",
    "\n",
    "sim.create_signal([[0],[1],[2],[3]]) ;  # using 4 separate groups here so that each stop sign can function individually\n",
    "                                        # Though my signals are permanently on \"red light\" for my project"
   ]
  },
  {
   "cell_type": "markdown",
   "metadata": {},
   "source": [
    "Note that if you run the cell below, it should open a pygame window that shows the simulation, which may or may not be what you want.  But if so, you can stop it by coming back to this notebook and hitting the black square under the word \"Kernel\" in the toolbar at the top."
   ]
  },
  {
   "cell_type": "code",
   "execution_count": null,
   "metadata": {},
   "outputs": [],
   "source": [
    "# Start simulation\n",
    "\n",
    "win = Window(sim)\n",
    "win.zoom = 5  # use two fingers to change this zoom while running\n",
    "win.run(steps_per_update=3)  # controls the speed of the visualization (higher = faster)"
   ]
  },
  {
   "cell_type": "code",
   "execution_count": null,
   "metadata": {},
   "outputs": [],
   "source": []
  },
  {
   "cell_type": "markdown",
   "metadata": {},
   "source": [
    "The first traffic flow is generated by these parameters, and is run long enough to let 250 cars through the intersection.   The only parameters I'll change for the next generator simulations are the `veh_rate`, which controls how frequently vehicles are stochastically added to the roads, and the last 4 tuple parameters, which control the ultimate directions of each of the cars that is generated on each of the 4 roads.  In SIM_1, all 4 roads have the same directional weightings: (3, 1, 1).  These numbers are the weightings for a uniform sampling.  So picture a 5-sided die being rolled 250 times here, and 3 of the 5 faces of the die say \"STRAIGHT\", while one each say \"LEFT\" and \"RIGHT\".  \n",
    "\n",
    "While the visible screen defaults to only showing a fraction of the `lenroad`=180 units, you can zoom out with two fingers to see the generated vehicles from their inception.  The idea was to see how much cars bunch up before they get to the visible intersection, in the cases where the drivers had different acceleration, velocity, and braking tendencies.  The `qzone` parameter determines how far back from the intersection the car is considered \"stopped\" or \"in line\".  I have it set to 1.5 carlengths in these simulations.  The other params determine how the individual driver drives and where people slow down and stop on all 4 roads.  I would like to experiment with those more, but there is kind of a delicate balance to the \"logic\" of keeping the traffic flowing without causing constant crashes in a non-threadsafe environment like pygame.  Which is why every intersection needs something like SimPy, which can keep a strict, single-thread order to every time step, unlike pygame, and unlike people in the real world.  Although it really is surprising we humans can handle something as complex as a 4-way stop sign, to be fair to us.  "
   ]
  },
  {
   "cell_type": "code",
   "execution_count": null,
   "metadata": {},
   "outputs": [],
   "source": [
    "SIM_1 = {'npseed': 604, 'veh_rate': 40, 'lenroad': 180, 'v': 15, 'a': 4, 'b': 4,\n",
    "        \"LEFT\": 3, \"STRAIGHT\": 2, \"RIGHT\": 2, 'qzone': 6, 'slow_dist': 22,\n",
    "        'slow_fac': .4, 'stop_dist': 7, 'road_0': (3,1,1), 'road_1': (3,1,1), \n",
    "         'road_2': (3,1,1), 'road_3': (3,1,1)}"
   ]
  },
  {
   "cell_type": "code",
   "execution_count": null,
   "metadata": {},
   "outputs": [],
   "source": [
    "def logDF(simlog):\n",
    "    return pd.DataFrame(simlog, columns=['Road', 'enter_Q', \n",
    "                                         'time_needed', 'exit_Q', 'direction'])"
   ]
  },
  {
   "cell_type": "code",
   "execution_count": null,
   "metadata": {},
   "outputs": [],
   "source": [
    "SIM_1_DF = logDF(sim.popped)\n",
    "SIM_1_DF.head()"
   ]
  },
  {
   "cell_type": "code",
   "execution_count": null,
   "metadata": {},
   "outputs": [],
   "source": [
    "#SIM_1_DF.to_csv(\"SIM_1_DF.csv\")"
   ]
  },
  {
   "cell_type": "code",
   "execution_count": null,
   "metadata": {},
   "outputs": [],
   "source": []
  },
  {
   "cell_type": "markdown",
   "metadata": {},
   "source": [
    "For the second flow generator, I'll increase the generation rate from 40 to 60, and I'll make most cars want to head East.  This will jam up the traffic, mostly from the increased generation rate."
   ]
  },
  {
   "cell_type": "code",
   "execution_count": null,
   "metadata": {},
   "outputs": [],
   "source": [
    "SIM_2 = {'npseed': 604, 'veh_rate': 60, 'lenroad': 180, 'v': 15, 'a': 4, 'b': 4,\n",
    "        \"LEFT\": 3, \"STRAIGHT\": 2, \"RIGHT\": 2, 'qzone': 6, 'slow_dist': 22,\n",
    "        'slow_fac': .4, 'stop_dist': 7, 'road_0': (4,1,1), 'road_1': (2,1,2), \n",
    "         'road_2': (1,1,1), 'road_3': (2,1,4)}"
   ]
  },
  {
   "cell_type": "code",
   "execution_count": null,
   "metadata": {},
   "outputs": [],
   "source": [
    "sim2 = Simulation()\n",
    "np.random.seed(604)\n",
    "# The road layout is shaped with these\n",
    "n = 12   # how many straight segments to a turn (higher is more circular/smoother)\n",
    "a = 2    # affects the width of the roads\n",
    "b = 8   # adds curvature to the corners\n",
    "l = 180  # makes the window a smaller square (smaller = shorter roads). \n",
    "        ### I'm making it high to bunch together incoming cars more, before we see them, in a stab at reality\n",
    "\n",
    "# Nodes   ----> \"right\" and \"left\" orient to the way the compass point is driving towards the center\n",
    "WEST_RIGHT_START = (-b-l, a)\n",
    "WEST_LEFT_START = (-b-l, -a)\n",
    "\n",
    "SOUTH_RIGHT_START = (a, b+l)\n",
    "SOUTH_LEFT_START = (-a, b+l)\n",
    "\n",
    "EAST_RIGHT_START = (b+l, -a)\n",
    "EAST_LEFT_START = (b+l, a)\n",
    "\n",
    "NORTH_RIGHT_START = (-a, -b-l)\n",
    "NORTH_LEFT_START = (a, -b-l)\n",
    "\n",
    "\n",
    "WEST_RIGHT = (-b, a)\n",
    "WEST_LEFT =\t(-b, -a)\n",
    "\n",
    "SOUTH_RIGHT = (a, b)\n",
    "SOUTH_LEFT = (-a, b)\n",
    "\n",
    "EAST_RIGHT = (b, -a)\n",
    "EAST_LEFT = (b, a)\n",
    "\n",
    "NORTH_RIGHT = (-a, -b)\n",
    "NORTH_LEFT = (a, -b)\n",
    "\n",
    "# Roads\n",
    "WEST_INBOUND = (WEST_RIGHT_START, WEST_RIGHT)\n",
    "SOUTH_INBOUND = (SOUTH_RIGHT_START, SOUTH_RIGHT)\n",
    "EAST_INBOUND = (EAST_RIGHT_START, EAST_RIGHT)\n",
    "NORTH_INBOUND = (NORTH_RIGHT_START, NORTH_RIGHT)\n",
    "\n",
    "WEST_OUTBOUND = (WEST_LEFT, WEST_LEFT_START)\n",
    "SOUTH_OUTBOUND = (SOUTH_LEFT, SOUTH_LEFT_START)\n",
    "EAST_OUTBOUND = (EAST_LEFT, EAST_LEFT_START)\n",
    "NORTH_OUTBOUND = (NORTH_LEFT, NORTH_LEFT_START)\n",
    "\n",
    "WEST_STRAIGHT = (WEST_RIGHT, EAST_LEFT)\n",
    "SOUTH_STRAIGHT = (SOUTH_RIGHT, NORTH_LEFT)\n",
    "EAST_STRAIGHT = (EAST_RIGHT, WEST_LEFT)\n",
    "NORTH_STRAIGHT = (NORTH_RIGHT, SOUTH_LEFT)\n",
    "\n",
    "WEST_RIGHT_TURN = turn_road(WEST_RIGHT, SOUTH_LEFT, TURN_RIGHT, n)\n",
    "WEST_LEFT_TURN = turn_road(WEST_RIGHT, NORTH_LEFT, TURN_LEFT, n)\n",
    "\n",
    "SOUTH_RIGHT_TURN = turn_road(SOUTH_RIGHT, EAST_LEFT, TURN_RIGHT, n)\n",
    "SOUTH_LEFT_TURN = turn_road(SOUTH_RIGHT, WEST_LEFT, TURN_LEFT, n)\n",
    "\n",
    "EAST_RIGHT_TURN = turn_road(EAST_RIGHT, NORTH_LEFT, TURN_RIGHT, n)\n",
    "EAST_LEFT_TURN = turn_road(EAST_RIGHT, SOUTH_LEFT, TURN_LEFT, n)\n",
    "\n",
    "NORTH_RIGHT_TURN = turn_road(NORTH_RIGHT, WEST_LEFT, TURN_RIGHT, n)\n",
    "NORTH_LEFT_TURN = turn_road(NORTH_RIGHT, EAST_LEFT, TURN_LEFT, n)\n",
    "\n",
    "sim2.create_roads([\n",
    "    WEST_INBOUND,\n",
    "    SOUTH_INBOUND,\n",
    "    EAST_INBOUND,\n",
    "    NORTH_INBOUND,\n",
    "\n",
    "    WEST_OUTBOUND,\n",
    "    SOUTH_OUTBOUND,\n",
    "    EAST_OUTBOUND,\n",
    "    NORTH_OUTBOUND,\n",
    "\n",
    "    WEST_STRAIGHT,\n",
    "    SOUTH_STRAIGHT,\n",
    "    EAST_STRAIGHT,\n",
    "    NORTH_STRAIGHT,\n",
    "\n",
    "    *WEST_RIGHT_TURN,  # so this is n little roads\n",
    "    *WEST_LEFT_TURN,   # and this is too\n",
    "\n",
    "    *SOUTH_RIGHT_TURN,\n",
    "    *SOUTH_LEFT_TURN,\n",
    "\n",
    "    *EAST_RIGHT_TURN,\n",
    "    *EAST_LEFT_TURN,\n",
    "\n",
    "    *NORTH_RIGHT_TURN,\n",
    "    *NORTH_LEFT_TURN\n",
    "])\n",
    "\n",
    "def road(a):\n",
    "    # build many (n, from above, to be precise) small roads to model a turn\n",
    "    return range(a, a+n)    \n",
    "\n",
    "sim2.create_gen({\n",
    "'vehicle_rate': 60,   # changed this from previous sim\n",
    "'vehicles':[\n",
    "    [4, {'path': [0, 8, 6], 'direction': 'STRAIGHT'}],   # [WEST_INBOUND, WEST_STRAIGHT, EAST_OUTBOUND],  from above roads array\n",
    "    [1, {'path': [0, *road(12), 5], 'direction': 'RIGHT'}],   # [WEST_INBOUND, *WEST_RIGHT_TURN, SOUTH_OUTBOUND],  from above roads array\n",
    "    [1, {'path': [0, *road(12+n), 7], 'direction': 'LEFT'}],   # [WEST_INBOUND, *WEST_LEFT_TURN, NORTH_OUTBOUND],  from above roads array\n",
    "\n",
    "    [2, {'path': [1, 9, 7], 'direction': 'STRAIGHT'}],   # [SOUTH_INBOUND, SOUTH_STRAIGHT, NORTH_OUTBOUND]\n",
    "    [1, {'path': [1, *road(12+2*n), 6], 'direction': 'RIGHT'}],   # etc\n",
    "    [2, {'path': [1, *road(12+3*n), 4], 'direction': 'LEFT'}],\n",
    "\n",
    "\n",
    "    [1, {'path': [2, 10, 4], 'direction': 'STRAIGHT'}],  # [EAST_INBOUND, EAST_STRAIGHT, EAST_OUTBOUND]\n",
    "    [1, {'path': [2, *road(12+4*n), 7], 'direction': 'RIGHT'}],  # etc\n",
    "    [1, {'path': [2, *road(12+5*n), 5], 'direction': 'LEFT'}],\n",
    "\n",
    "    [1, {'path': [3, 11, 5], 'direction': 'STRAIGHT'}],  # [NORTH_INBOUND, etc]\n",
    "    [2, {'path': [3, *road(12+6*n), 4], 'direction': 'RIGHT'}],\n",
    "    [4, {'path': [3, *road(12+7*n), 6], 'direction': 'LEFT'}]\n",
    "]})\n",
    "\n",
    "sim2.create_signal([[0],[1],[2],[3]]) ;  # using 4 separate groups here so that each stop sign can function individually\n",
    "                                        # Though my signals are permanently on \"red light\" for my project"
   ]
  },
  {
   "cell_type": "markdown",
   "metadata": {},
   "source": [
    "Note that if you run the cell below, it should open a pygame window that shows the simulation, which may or may not be what you want.  But if so, you can stop it by coming back to this notebook and hitting the black square under the word \"Kernel\" in the toolbar at the top."
   ]
  },
  {
   "cell_type": "code",
   "execution_count": null,
   "metadata": {},
   "outputs": [],
   "source": [
    "# Start simulation\n",
    "\n",
    "win = Window(sim2)\n",
    "win.zoom = 5  # use two fingers to change this zoom while running\n",
    "win.run(steps_per_update=3)  # controls the speed of the visualization (higher = faster)"
   ]
  },
  {
   "cell_type": "code",
   "execution_count": null,
   "metadata": {},
   "outputs": [],
   "source": [
    "SIM_2_DF = logDF(sim2.popped)\n",
    "SIM_2_DF.head()"
   ]
  },
  {
   "cell_type": "code",
   "execution_count": null,
   "metadata": {},
   "outputs": [],
   "source": [
    "len(sim2.popped)"
   ]
  },
  {
   "cell_type": "markdown",
   "metadata": {},
   "source": [
    "That was run for longer than the first one, and had more cars entering the gridlock.  But it processed far fewer, because the lanes jammed up.  "
   ]
  },
  {
   "cell_type": "code",
   "execution_count": null,
   "metadata": {},
   "outputs": [],
   "source": [
    "#SIM_2_DF.to_csv(\"SIM_2_DF.csv\")"
   ]
  },
  {
   "cell_type": "code",
   "execution_count": null,
   "metadata": {},
   "outputs": [],
   "source": []
  },
  {
   "cell_type": "markdown",
   "metadata": {},
   "source": [
    "For the last flow generator, I'll dial it back to the 40 rate, but keep the directional bent towards the East."
   ]
  },
  {
   "cell_type": "code",
   "execution_count": null,
   "metadata": {},
   "outputs": [],
   "source": [
    "SIM_3 = {'npseed': 604, 'veh_rate': 40, 'lenroad': 180, 'v': 15, 'a': 4, 'b': 4,\n",
    "        \"LEFT\": 3, \"STRAIGHT\": 2, \"RIGHT\": 2, 'qzone': 6, 'slow_dist': 22,\n",
    "        'slow_fac': .4, 'stop_dist': 7, 'road_0': (4,1,1), 'road_1': (2,1,2), \n",
    "         'road_2': (1,1,1), 'road_3': (2,1,4)}"
   ]
  },
  {
   "cell_type": "code",
   "execution_count": null,
   "metadata": {},
   "outputs": [],
   "source": [
    "sim3 = Simulation()\n",
    "np.random.seed(604)\n",
    "# The road layout is shaped with these\n",
    "n = 12   # how many straight segments to a turn (higher is more circular/smoother)\n",
    "a = 2    # affects the width of the roads\n",
    "b = 8   # adds curvature to the corners\n",
    "l = 180  # makes the window a smaller square (smaller = shorter roads). \n",
    "        ### I'm making it high to bunch together incoming cars more, before we see them, in a stab at reality\n",
    "\n",
    "# Nodes   ----> \"right\" and \"left\" orient to the way the compass point is driving towards the center\n",
    "WEST_RIGHT_START = (-b-l, a)\n",
    "WEST_LEFT_START = (-b-l, -a)\n",
    "\n",
    "SOUTH_RIGHT_START = (a, b+l)\n",
    "SOUTH_LEFT_START = (-a, b+l)\n",
    "\n",
    "EAST_RIGHT_START = (b+l, -a)\n",
    "EAST_LEFT_START = (b+l, a)\n",
    "\n",
    "NORTH_RIGHT_START = (-a, -b-l)\n",
    "NORTH_LEFT_START = (a, -b-l)\n",
    "\n",
    "\n",
    "WEST_RIGHT = (-b, a)\n",
    "WEST_LEFT =\t(-b, -a)\n",
    "\n",
    "SOUTH_RIGHT = (a, b)\n",
    "SOUTH_LEFT = (-a, b)\n",
    "\n",
    "EAST_RIGHT = (b, -a)\n",
    "EAST_LEFT = (b, a)\n",
    "\n",
    "NORTH_RIGHT = (-a, -b)\n",
    "NORTH_LEFT = (a, -b)\n",
    "\n",
    "# Roads\n",
    "WEST_INBOUND = (WEST_RIGHT_START, WEST_RIGHT)\n",
    "SOUTH_INBOUND = (SOUTH_RIGHT_START, SOUTH_RIGHT)\n",
    "EAST_INBOUND = (EAST_RIGHT_START, EAST_RIGHT)\n",
    "NORTH_INBOUND = (NORTH_RIGHT_START, NORTH_RIGHT)\n",
    "\n",
    "WEST_OUTBOUND = (WEST_LEFT, WEST_LEFT_START)\n",
    "SOUTH_OUTBOUND = (SOUTH_LEFT, SOUTH_LEFT_START)\n",
    "EAST_OUTBOUND = (EAST_LEFT, EAST_LEFT_START)\n",
    "NORTH_OUTBOUND = (NORTH_LEFT, NORTH_LEFT_START)\n",
    "\n",
    "WEST_STRAIGHT = (WEST_RIGHT, EAST_LEFT)\n",
    "SOUTH_STRAIGHT = (SOUTH_RIGHT, NORTH_LEFT)\n",
    "EAST_STRAIGHT = (EAST_RIGHT, WEST_LEFT)\n",
    "NORTH_STRAIGHT = (NORTH_RIGHT, SOUTH_LEFT)\n",
    "\n",
    "WEST_RIGHT_TURN = turn_road(WEST_RIGHT, SOUTH_LEFT, TURN_RIGHT, n)\n",
    "WEST_LEFT_TURN = turn_road(WEST_RIGHT, NORTH_LEFT, TURN_LEFT, n)\n",
    "\n",
    "SOUTH_RIGHT_TURN = turn_road(SOUTH_RIGHT, EAST_LEFT, TURN_RIGHT, n)\n",
    "SOUTH_LEFT_TURN = turn_road(SOUTH_RIGHT, WEST_LEFT, TURN_LEFT, n)\n",
    "\n",
    "EAST_RIGHT_TURN = turn_road(EAST_RIGHT, NORTH_LEFT, TURN_RIGHT, n)\n",
    "EAST_LEFT_TURN = turn_road(EAST_RIGHT, SOUTH_LEFT, TURN_LEFT, n)\n",
    "\n",
    "NORTH_RIGHT_TURN = turn_road(NORTH_RIGHT, WEST_LEFT, TURN_RIGHT, n)\n",
    "NORTH_LEFT_TURN = turn_road(NORTH_RIGHT, EAST_LEFT, TURN_LEFT, n)\n",
    "\n",
    "sim3.create_roads([\n",
    "    WEST_INBOUND,\n",
    "    SOUTH_INBOUND,\n",
    "    EAST_INBOUND,\n",
    "    NORTH_INBOUND,\n",
    "\n",
    "    WEST_OUTBOUND,\n",
    "    SOUTH_OUTBOUND,\n",
    "    EAST_OUTBOUND,\n",
    "    NORTH_OUTBOUND,\n",
    "\n",
    "    WEST_STRAIGHT,\n",
    "    SOUTH_STRAIGHT,\n",
    "    EAST_STRAIGHT,\n",
    "    NORTH_STRAIGHT,\n",
    "\n",
    "    *WEST_RIGHT_TURN,  # so this is n little roads\n",
    "    *WEST_LEFT_TURN,   # and this is too\n",
    "\n",
    "    *SOUTH_RIGHT_TURN,\n",
    "    *SOUTH_LEFT_TURN,\n",
    "\n",
    "    *EAST_RIGHT_TURN,\n",
    "    *EAST_LEFT_TURN,\n",
    "\n",
    "    *NORTH_RIGHT_TURN,\n",
    "    *NORTH_LEFT_TURN\n",
    "])\n",
    "\n",
    "def road(a):\n",
    "    # build many (n, from above, to be precise) small roads to model a turn\n",
    "    return range(a, a+n)    \n",
    "\n",
    "sim3.create_gen({\n",
    "'vehicle_rate': 40,   # changed this from previous sim\n",
    "'vehicles':[\n",
    "    [4, {'path': [0, 8, 6], 'direction': 'STRAIGHT'}],   # [WEST_INBOUND, WEST_STRAIGHT, EAST_OUTBOUND],  from above roads array\n",
    "    [1, {'path': [0, *road(12), 5], 'direction': 'RIGHT'}],   # [WEST_INBOUND, *WEST_RIGHT_TURN, SOUTH_OUTBOUND],  from above roads array\n",
    "    [1, {'path': [0, *road(12+n), 7], 'direction': 'LEFT'}],   # [WEST_INBOUND, *WEST_LEFT_TURN, NORTH_OUTBOUND],  from above roads array\n",
    "\n",
    "    [2, {'path': [1, 9, 7], 'direction': 'STRAIGHT'}],   # [SOUTH_INBOUND, SOUTH_STRAIGHT, NORTH_OUTBOUND]\n",
    "    [1, {'path': [1, *road(12+2*n), 6], 'direction': 'RIGHT'}],   # etc\n",
    "    [2, {'path': [1, *road(12+3*n), 4], 'direction': 'LEFT'}],\n",
    "\n",
    "\n",
    "    [1, {'path': [2, 10, 4], 'direction': 'STRAIGHT'}],  # [EAST_INBOUND, EAST_STRAIGHT, EAST_OUTBOUND]\n",
    "    [1, {'path': [2, *road(12+4*n), 7], 'direction': 'RIGHT'}],  # etc\n",
    "    [1, {'path': [2, *road(12+5*n), 5], 'direction': 'LEFT'}],\n",
    "\n",
    "    [1, {'path': [3, 11, 5], 'direction': 'STRAIGHT'}],  # [NORTH_INBOUND, etc]\n",
    "    [2, {'path': [3, *road(12+6*n), 4], 'direction': 'RIGHT'}],\n",
    "    [4, {'path': [3, *road(12+7*n), 6], 'direction': 'LEFT'}]\n",
    "]})\n",
    "\n",
    "sim3.create_signal([[0],[1],[2],[3]]) ;  # using 4 separate groups here so that each stop sign can function individually\n",
    "                                        # Though my signals are permanently on \"red light\" for my project"
   ]
  },
  {
   "cell_type": "markdown",
   "metadata": {},
   "source": [
    "Note that if you run the cell below, it should open a pygame window that shows the simulation, which may or may not be what you want.  But if so, you can stop it by coming back to this notebook and hitting the black square under the word \"Kernel\" in the toolbar at the top."
   ]
  },
  {
   "cell_type": "code",
   "execution_count": null,
   "metadata": {},
   "outputs": [],
   "source": [
    "# Start simulation\n",
    "\n",
    "win = Window(sim3)\n",
    "win.zoom = 5  # use two fingers to change this zoom while running\n",
    "win.run(steps_per_update=3)  # controls the speed of the visualization (higher = faster)"
   ]
  },
  {
   "cell_type": "code",
   "execution_count": null,
   "metadata": {},
   "outputs": [],
   "source": [
    "SIM_3_DF = logDF(sim3.popped)\n",
    "SIM_3_DF.head()"
   ]
  },
  {
   "cell_type": "code",
   "execution_count": null,
   "metadata": {},
   "outputs": [],
   "source": [
    "len(sim3.popped)"
   ]
  },
  {
   "cell_type": "markdown",
   "metadata": {},
   "source": [
    "That one got backed up coming from the West towards the popular East direction, which maybe makes sense.  The weightings for that West-East road were 4 straight to 1 left and 1 right.  But the South-North road eventually jammed up too, so I cut it off at 118 cars through.  There's a precarious balance with the physics and the threading colliding here like the cars in the intersections, and each configuration really needs its own dynamics to work, the way I have it designed.  For the sake of a good flow into SimPy, I'll use the data from SIM_1 for now, and hope to come back to this project in the future with some clever adjustments."
   ]
  },
  {
   "cell_type": "code",
   "execution_count": null,
   "metadata": {},
   "outputs": [],
   "source": [
    "#SIM_3_DF.to_csv(\"SIM_3_DF.csv\")"
   ]
  },
  {
   "cell_type": "markdown",
   "metadata": {},
   "source": [
    "## Part 2 -- Feeding the cars into a scheduled queue to see how efficient it is with different traffic rules."
   ]
  },
  {
   "cell_type": "markdown",
   "metadata": {},
   "source": [
    "I'll feed the cars into the SimPy \"intersection\" one by one first, as they entered the simulated flow intersection above.   Then I'll see how much quicker things flow if cars are allowed to alternate turns N-S roads then E-W roads, where there are pairs of such cars queued up and one is going straight while the other is not turning left.  So just like real life."
   ]
  },
  {
   "cell_type": "markdown",
   "metadata": {},
   "source": [
    "These times through the intersection (left turn = 3 units, right and straight = 2 each) are the same as the ones I used for the generator simulator.  There's a big difference between the two uses, of course.  The times aren't to compare SimPy to pygame, but just to compare SimPy to SimPy.  The pygame numbers involve all the nastiness of a busy intersection, and if you watched the simulations above, you noticed how cars were colliding often in the intersections, and cutting it pretty close many other times. But if there was strict alternation, better coding, and perfect drivers, those are pretty much the times it would've taken the cars to enter and exit the intersection.  \n",
    "\n",
    "All those cars were individual Agents in Part 1, subject to all sorts of fluctuations, and it's actually fun to stare at it for awhile and realize that \"someone is just sitting there jamming things up, even though it's their turn.\"  You can almost hear the honking and see the birds being flipped at the person who is texting at the wheel.  But SimPy will offer a nice, clean break from that real-world nonsense, by reducing all the Agents and threads and physics to just one omnipotent machine of reason.  "
   ]
  },
  {
   "cell_type": "code",
   "execution_count": null,
   "metadata": {},
   "outputs": [],
   "source": [
    "flowDF = pd.read_csv('SIM_1_DF.csv', index_col=0)\n",
    "flowDF.head()"
   ]
  },
  {
   "cell_type": "code",
   "execution_count": null,
   "metadata": {},
   "outputs": [],
   "source": [
    "flowDF.tail()"
   ]
  },
  {
   "cell_type": "markdown",
   "metadata": {},
   "source": [
    "Looking at the head and tail of the data there, you can see, as may be expected, that the time spent in the intersection queue got longer as time went on and traffic backed up somewhat.  The first five cars through spent about 1-1.5 seconds each from they time they turned yellow in the simulation to when they turned green again as they entered the intersection.  The last five times were about 2 seconds each, and that's the simulation where things were flowing most smoothly.  \n",
    "\n",
    "It's debatable whether to use the entry time or the exit time, or maybe the average of the two.  But I'll use the entry time here to feed into SimPy, and to compensate, I'll add the waiting time into the clean, theoretical times.  Again, the point isn't to compare simpy to the previous flow simulation that generated the data, but the point is to model reality, and the reality is that things take longer as traffic builds.  "
   ]
  },
  {
   "cell_type": "code",
   "execution_count": null,
   "metadata": {},
   "outputs": [],
   "source": [
    "flowDF['t_q'] = flowDF.exit_Q - flowDF.enter_Q\n",
    "flowDF.head(1)"
   ]
  },
  {
   "cell_type": "code",
   "execution_count": null,
   "metadata": {},
   "outputs": [],
   "source": [
    "import matplotlib.pyplot as plt\n",
    "plt.plot(flowDF.enter_Q, flowDF.t_q)\n",
    "plt.title(\"Waits as Traffic Builds\")\n",
    "plt.xlabel(\"Time Passing ----->\")\n",
    "plt.ylabel(\"Waiting time to Enter Intersection\")\n",
    "plt.xticks([]);"
   ]
  },
  {
   "cell_type": "markdown",
   "metadata": {},
   "source": [
    "This chart shows that the \"head vs tail\" glimpse done a moment ago was misleading.  Since traffic continued to move generally well in this particular simulation run, there was a baseline wait of 2 \"seconds\" to enter the intersection.  That was the time needed to wait for one other car to go straight or turn right, AFTER you enter the official queue just before entering the intersection.  In a sense, the chart is a measure of how efficiently the simulation is modeled.  In the absence of other cars, like at the very start of the timeline charted, waiting time is only a function of how abruptly the driver brakes and how much the driver actually comes to a full stop.  If you go back and watch the simulation, you see that the very first car does a \"rolling stop\" and the second one does almost the same. "
   ]
  },
  {
   "cell_type": "markdown",
   "metadata": {},
   "source": [
    "### Using SimPy to Process these Car Arrivals and Passages Through Intersection"
   ]
  },
  {
   "cell_type": "markdown",
   "metadata": {},
   "source": [
    "The fact is that using SimPy to manage the thread here is overkill--Every event is already scheduled in order, with the only thing blocking it being other events in the same queue.  So we could just process them in order of arrival time, with regular logic:"
   ]
  },
  {
   "cell_type": "code",
   "execution_count": null,
   "metadata": {},
   "outputs": [],
   "source": [
    "flowDF['finished'] = flowDF.exit_Q + flowDF.time_needed\n",
    "flowDF.head()"
   ]
  },
  {
   "cell_type": "markdown",
   "metadata": {},
   "source": [
    "### Analyzing changes in wait times by altering traffic \"rules\""
   ]
  },
  {
   "cell_type": "markdown",
   "metadata": {},
   "source": [
    "My first plans were to see how much time is saved by allowing North-South and South-North traffic to use the intersection at the same time, unless one of them was turning left (and E-W / W-E).  This is of course how we drive, I believe in all of America, and is an obvious time-saver that comes at the expense of some added confusion sometimes.  But the way I structured this analysis here doesn't allow me to use the flow times I generated for such purposes.  The reason is that I can move up one car's finish time, but I can't then adjust everyone's arrival times after that, since that ruins the point of simulating them to begin with. \n",
    "\n",
    "The time to add this feature would've been while generating the data itself, but unfortunately the queueing logic of the code is already in need of a lot of fine-tuning, which is evident when you watch the simulations.  Which brings me to a long conclusion here:"
   ]
  },
  {
   "cell_type": "markdown",
   "metadata": {},
   "source": [
    "## Validation, Conclusions, and Next Steps  "
   ]
  },
  {
   "cell_type": "markdown",
   "metadata": {},
   "source": [
    "The complexity of modeling individual, intelligent drivers interacting is very fine-grained, i.e. beyond my current abilities.  The importance of it is evident:  We can watch countless hours of video at an intersection to see how real people work together, but we can't analyze useful changes in their driving habits other than by simulating them.  \"Useful changes\" meaning ways to save time, lives, and energy resources.  Believe it or not, my original goal was to estimate the amount of gas and time wasted by coming to a full stop vs. a rolling stop, when not necessary.  \n",
    "\n",
    "The validity (or to be blunt, in my experience, the lack of validity) of the flow data produced by my simulations is only backed up by one method -- Observation of the simulation itself.  But my main argument here is that observation is the most crucial form of validation, especially in a process that is extremely well-recognized and yet extremely complex to model.  For purposes of getting more out of this approach, it would be better to make some simplifications at certain points of the process.  For example, the \"Intelligent Driver\" could be \"dumbed down\" a bit when moving from Stage 2 (only constrained by the car in front) to Stage 3 (queued at the intersection).  The bulk of my work in the project so far has gone into integrating the intelligent driver into Stage 3, where there are many little stop/starts that break the model.  In a sense, that's why it's so important to model this starting with visualization, because that makes it **very easy to verify that my model is not valid,** at least not as coded so far.  I envisioned running many simulations to see how many were needed to find a sort of mean range of data output, but since there are so many parameters to tweak to keep traffic flowing yet not colliding, it's more a question of watching the results of a particular combination of them long enough in one simulation to see obvious faults, like 2 cars going from the same lane at the same turn.  That never happens in reality ;)"
   ]
  },
  {
   "cell_type": "markdown",
   "metadata": {},
   "source": [
    "There are more next steps in my mind than when I started, which is daunting but is more confirmation of the complexity involved.  But in terms of the lower-hanging fruits, to name just a few:  \n",
    "\n",
    "- Track total time spent on the road for each car, and see how parameter changes affect that distribution\n",
    "- Work the N-S / E-W feature into the simulation queue logic\n",
    "- Modify the vehicle generators to pump out bunches of cars by design.\n",
    "- Further simplify the logic in the intersection queue."
   ]
  },
  {
   "cell_type": "code",
   "execution_count": null,
   "metadata": {},
   "outputs": [],
   "source": []
  }
 ],
 "metadata": {
  "kernelspec": {
   "display_name": "Python 3",
   "language": "python",
   "name": "python3"
  },
  "language_info": {
   "codemirror_mode": {
    "name": "ipython",
    "version": 3
   },
   "file_extension": ".py",
   "mimetype": "text/x-python",
   "name": "python",
   "nbconvert_exporter": "python",
   "pygments_lexer": "ipython3",
   "version": "3.7.4"
  }
 },
 "nbformat": 4,
 "nbformat_minor": 2
}
