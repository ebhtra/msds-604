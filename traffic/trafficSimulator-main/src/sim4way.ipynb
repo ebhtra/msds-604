{
 "cells": [
  {
   "cell_type": "markdown",
   "metadata": {},
   "source": [
    "# Simulating Vehicles Passing Through a 4-way Stop Sign"
   ]
  },
  {
   "cell_type": "markdown",
   "metadata": {},
   "source": [
    "Final Project by Ethan Haley\n",
    "for Dr. Fulton's CUNY SPS DATA 604 Summer '22"
   ]
  },
  {
   "cell_type": "markdown",
   "metadata": {},
   "source": [
    "## Part 1 -- Simulating a flow into a 4-way stop sign intersection"
   ]
  },
  {
   "cell_type": "markdown",
   "metadata": {},
   "source": [
    "The idea here is to create and visualize the flow of stochastically generated vehicles into and through a common intersection.  First and foremost, my project is built upon Bilal Himite's traffic visualization code repository here \n",
    "\n",
    "https://github.com/BilHim/trafficSimulator\n",
    "\n",
    "which that author presents in a blog post here\n",
    "\n",
    "https://towardsdatascience.com/simulating-traffic-flow-in-python-ee1eab4dd20f"
   ]
  },
  {
   "cell_type": "markdown",
   "metadata": {},
   "source": [
    "A large component of Professor Larry Fulton's 604 course is the verification of simulations, and so I approached this project from the standpoint of using visualizations to verify what was happening and why. \"I'll believe it when I see it\", in a nutshell.  We may not know what some simulations should look like, but most of us have sat at enough stop signs to have had the time to analyze them thoroughly and know what the traffic flow looks like. \n",
    "\n",
    "The previously mentioned repo that I used as the basis for my project was written by an engineer who understands the physics of motion very well, and who provides a very nice scaffolding for visualization of motion.  It's based on the  \"intelligent driver model\" described in 2000 by Treiber, Hennecke, and Helbing here https://journals.aps.org/pre/abstract/10.1103/PhysRevE.62.1805 . \n",
    "\n",
    "The idea is to model every vehicle as an individual Agent who has their own driving preferences but is often constrained by the car in front of them."
   ]
  },
  {
   "cell_type": "markdown",
   "metadata": {},
   "source": [
    "For example, here is a snapshot in time of one of my simulated intersections:"
   ]
  },
  {
   "cell_type": "markdown",
   "metadata": {},
   "source": [
    "<img src='trafficSimulator/SIM_1_42s.png' width=\"600\" height=\"600\">"
   ]
  },
  {
   "cell_type": "markdown",
   "metadata": {},
   "source": [
    "The yellow car facing North on the South side of the intersection is waiting in a queue with the other yellow car.  The green car heading West through the intersection has just been released from the queue and now has no one in front of it, so it is accelerating at its desired rate.  When it clears the way in a second, the two yellow cars will have to figure out who gets to join the Westward route first behind the green car, since they both have their signals on indicating that they will be turning that same direction.  \n",
    "\n",
    "The author of the code that I based this on used timed stoplights that released everyone on a road at once, for a set amount of time, and allowed them to collide freely, since that was not the topic of interest in his project.  So my task was to figure out the logic of managing the vehicles in a situation that turns out to be very different from a stoplight, surprisingly.  "
   ]
  },
  {
   "cell_type": "markdown",
   "metadata": {},
   "source": [
    "### Why simulate this Agent-Agent interaction?"
   ]
  },
  {
   "cell_type": "markdown",
   "metadata": {},
   "source": [
    "From an immediate standpoint, the goal was to simulate how cars entered the intersection area and how that affected the flow through the crossroads and onward.  A random Poisson distribution that might model the timing of cars entering the road off-screen becomes a very different distribution a couple of blocks later, when different drivers have interacted and are preparing to stop at the 4-way.  I wanted to see how different driving styles affected the overall traffic movement.  This of course proved to be too complex for me!  But I was at least able to simulate a new semi-random flow into the intersection under a variety of parameters, and the point is to use those distributions as input to a SimPy model that will control the movement through the intersection in an analyzable manner."
   ]
  },
  {
   "cell_type": "markdown",
   "metadata": {},
   "source": [
    "Here is the \"intelligent driver model\" used to explain how independent driver Agents act in a group:"
   ]
  },
  {
   "cell_type": "markdown",
   "metadata": {},
   "source": [
    "<img src='trafficSimulator/TrafficFlowChart.png' width=\"600\" height=\"600\">"
   ]
  },
  {
   "cell_type": "code",
   "execution_count": null,
   "metadata": {},
   "outputs": [],
   "source": []
  },
  {
   "cell_type": "code",
   "execution_count": null,
   "metadata": {},
   "outputs": [],
   "source": []
  },
  {
   "cell_type": "code",
   "execution_count": 1,
   "metadata": {},
   "outputs": [
    {
     "name": "stdout",
     "output_type": "stream",
     "text": [
      "pygame 2.1.2 (SDL 2.0.18, Python 3.7.4)\n",
      "Hello from the pygame community. https://www.pygame.org/contribute.html\n"
     ]
    }
   ],
   "source": [
    "import pandas as pd\n",
    "import numpy as np\n",
    "import simpy as sp\n",
    "from trafficSimulator import *"
   ]
  },
  {
   "cell_type": "code",
   "execution_count": 2,
   "metadata": {},
   "outputs": [],
   "source": [
    "sim = Simulation()\n",
    "np.random.seed(604)\n",
    "# The road layout is shaped with these\n",
    "n = 12   # how many straight segments to a turn (higher is more circular/smoother)\n",
    "a = 2    # affects the width of the roads\n",
    "b = 8   # adds curvature to the corners\n",
    "l = 180  # makes the window a smaller square (smaller = shorter roads). \n",
    "        ### I'm making it high to bunch together incoming cars more, before we see them, in a stab at reality\n",
    "\n",
    "# Nodes   ----> \"right\" and \"left\" orient to the way the compass point is driving towards the center\n",
    "WEST_RIGHT_START = (-b-l, a)\n",
    "WEST_LEFT_START = (-b-l, -a)\n",
    "\n",
    "SOUTH_RIGHT_START = (a, b+l)\n",
    "SOUTH_LEFT_START = (-a, b+l)\n",
    "\n",
    "EAST_RIGHT_START = (b+l, -a)\n",
    "EAST_LEFT_START = (b+l, a)\n",
    "\n",
    "NORTH_RIGHT_START = (-a, -b-l)\n",
    "NORTH_LEFT_START = (a, -b-l)\n",
    "\n",
    "\n",
    "WEST_RIGHT = (-b, a)\n",
    "WEST_LEFT =\t(-b, -a)\n",
    "\n",
    "SOUTH_RIGHT = (a, b)\n",
    "SOUTH_LEFT = (-a, b)\n",
    "\n",
    "EAST_RIGHT = (b, -a)\n",
    "EAST_LEFT = (b, a)\n",
    "\n",
    "NORTH_RIGHT = (-a, -b)\n",
    "NORTH_LEFT = (a, -b)\n",
    "\n",
    "# Roads\n",
    "WEST_INBOUND = (WEST_RIGHT_START, WEST_RIGHT)\n",
    "SOUTH_INBOUND = (SOUTH_RIGHT_START, SOUTH_RIGHT)\n",
    "EAST_INBOUND = (EAST_RIGHT_START, EAST_RIGHT)\n",
    "NORTH_INBOUND = (NORTH_RIGHT_START, NORTH_RIGHT)\n",
    "\n",
    "WEST_OUTBOUND = (WEST_LEFT, WEST_LEFT_START)\n",
    "SOUTH_OUTBOUND = (SOUTH_LEFT, SOUTH_LEFT_START)\n",
    "EAST_OUTBOUND = (EAST_LEFT, EAST_LEFT_START)\n",
    "NORTH_OUTBOUND = (NORTH_LEFT, NORTH_LEFT_START)\n",
    "\n",
    "WEST_STRAIGHT = (WEST_RIGHT, EAST_LEFT)\n",
    "SOUTH_STRAIGHT = (SOUTH_RIGHT, NORTH_LEFT)\n",
    "EAST_STRAIGHT = (EAST_RIGHT, WEST_LEFT)\n",
    "NORTH_STRAIGHT = (NORTH_RIGHT, SOUTH_LEFT)\n",
    "\n",
    "WEST_RIGHT_TURN = turn_road(WEST_RIGHT, SOUTH_LEFT, TURN_RIGHT, n)\n",
    "WEST_LEFT_TURN = turn_road(WEST_RIGHT, NORTH_LEFT, TURN_LEFT, n)\n",
    "\n",
    "SOUTH_RIGHT_TURN = turn_road(SOUTH_RIGHT, EAST_LEFT, TURN_RIGHT, n)\n",
    "SOUTH_LEFT_TURN = turn_road(SOUTH_RIGHT, WEST_LEFT, TURN_LEFT, n)\n",
    "\n",
    "EAST_RIGHT_TURN = turn_road(EAST_RIGHT, NORTH_LEFT, TURN_RIGHT, n)\n",
    "EAST_LEFT_TURN = turn_road(EAST_RIGHT, SOUTH_LEFT, TURN_LEFT, n)\n",
    "\n",
    "NORTH_RIGHT_TURN = turn_road(NORTH_RIGHT, WEST_LEFT, TURN_RIGHT, n)\n",
    "NORTH_LEFT_TURN = turn_road(NORTH_RIGHT, EAST_LEFT, TURN_LEFT, n)\n",
    "\n",
    "sim.create_roads([\n",
    "    WEST_INBOUND,\n",
    "    SOUTH_INBOUND,\n",
    "    EAST_INBOUND,\n",
    "    NORTH_INBOUND,\n",
    "\n",
    "    WEST_OUTBOUND,\n",
    "    SOUTH_OUTBOUND,\n",
    "    EAST_OUTBOUND,\n",
    "    NORTH_OUTBOUND,\n",
    "\n",
    "    WEST_STRAIGHT,\n",
    "    SOUTH_STRAIGHT,\n",
    "    EAST_STRAIGHT,\n",
    "    NORTH_STRAIGHT,\n",
    "\n",
    "    *WEST_RIGHT_TURN,  # so this is n little roads\n",
    "    *WEST_LEFT_TURN,   # and this is too\n",
    "\n",
    "    *SOUTH_RIGHT_TURN,\n",
    "    *SOUTH_LEFT_TURN,\n",
    "\n",
    "    *EAST_RIGHT_TURN,\n",
    "    *EAST_LEFT_TURN,\n",
    "\n",
    "    *NORTH_RIGHT_TURN,\n",
    "    *NORTH_LEFT_TURN\n",
    "])\n",
    "\n",
    "def road(a):\n",
    "    # build many (n, from above, to be precise) small roads to model a turn\n",
    "    return range(a, a+n)    \n",
    "\n",
    "sim.create_gen({\n",
    "'vehicle_rate': 40,\n",
    "'vehicles':[\n",
    "    [3, {'path': [0, 8, 6], 'direction': 'STRAIGHT'}],   # [WEST_INBOUND, WEST_STRAIGHT, EAST_OUTBOUND],  from above roads array\n",
    "    [1, {'path': [0, *road(12), 5], 'direction': 'RIGHT'}],   # [WEST_INBOUND, *WEST_RIGHT_TURN, SOUTH_OUTBOUND],  from above roads array\n",
    "    [1, {'path': [0, *road(12+n), 7], 'direction': 'LEFT'}],   # [WEST_INBOUND, *WEST_LEFT_TURN, NORTH_OUTBOUND],  from above roads array\n",
    "\n",
    "    [3, {'path': [1, 9, 7], 'direction': 'STRAIGHT'}],   # [SOUTH_INBOUND, SOUTH_STRAIGHT, NORTH_OUTBOUND]\n",
    "    [1, {'path': [1, *road(12+2*n), 6], 'direction': 'RIGHT'}],   # etc\n",
    "    [1, {'path': [1, *road(12+3*n), 4], 'direction': 'LEFT'}],\n",
    "\n",
    "\n",
    "    [3, {'path': [2, 10, 4], 'direction': 'STRAIGHT'}],  # [EAST_INBOUND, EAST_STRAIGHT, EAST_OUTBOUND]\n",
    "    [1, {'path': [2, *road(12+4*n), 7], 'direction': 'RIGHT'}],  # etc\n",
    "    [1, {'path': [2, *road(12+5*n), 5], 'direction': 'LEFT'}],\n",
    "\n",
    "    [3, {'path': [3, 11, 5], 'direction': 'STRAIGHT'}],  # [NORTH_INBOUND, etc]\n",
    "    [1, {'path': [3, *road(12+6*n), 4], 'direction': 'RIGHT'}],\n",
    "    [1, {'path': [3, *road(12+7*n), 6], 'direction': 'LEFT'}]\n",
    "]})\n",
    "\n",
    "sim.create_signal([[0],[1],[2],[3]]) ;  # using 4 separate groups here so that each stop sign can function individually\n",
    "                                        # Though my signals are permanently on \"red light\" for my project"
   ]
  },
  {
   "cell_type": "markdown",
   "metadata": {},
   "source": [
    "Note that if you run the cell below, it should open a pygame window that shows the simulation, which may or may not be what you want.  But if so, you can stop it by coming back to this notebook and hitting the black square under the word \"Kernel\" in the toolbar at the top."
   ]
  },
  {
   "cell_type": "code",
   "execution_count": 3,
   "metadata": {},
   "outputs": [
    {
     "ename": "KeyboardInterrupt",
     "evalue": "",
     "output_type": "error",
     "traceback": [
      "\u001b[0;31m---------------------------------------------------------------------------\u001b[0m",
      "\u001b[0;31mKeyboardInterrupt\u001b[0m                         Traceback (most recent call last)",
      "\u001b[0;32m<ipython-input-3-0983917c7c99>\u001b[0m in \u001b[0;36m<module>\u001b[0;34m\u001b[0m\n\u001b[1;32m      3\u001b[0m \u001b[0mwin\u001b[0m \u001b[0;34m=\u001b[0m \u001b[0mWindow\u001b[0m\u001b[0;34m(\u001b[0m\u001b[0msim\u001b[0m\u001b[0;34m)\u001b[0m\u001b[0;34m\u001b[0m\u001b[0;34m\u001b[0m\u001b[0m\n\u001b[1;32m      4\u001b[0m \u001b[0mwin\u001b[0m\u001b[0;34m.\u001b[0m\u001b[0mzoom\u001b[0m \u001b[0;34m=\u001b[0m \u001b[0;36m5\u001b[0m  \u001b[0;31m# use two fingers to change this zoom while running\u001b[0m\u001b[0;34m\u001b[0m\u001b[0;34m\u001b[0m\u001b[0m\n\u001b[0;32m----> 5\u001b[0;31m \u001b[0mwin\u001b[0m\u001b[0;34m.\u001b[0m\u001b[0mrun\u001b[0m\u001b[0;34m(\u001b[0m\u001b[0msteps_per_update\u001b[0m\u001b[0;34m=\u001b[0m\u001b[0;36m3\u001b[0m\u001b[0;34m)\u001b[0m  \u001b[0;31m# controls the speed of the visualization (higher = faster)\u001b[0m\u001b[0;34m\u001b[0m\u001b[0;34m\u001b[0m\u001b[0m\n\u001b[0m",
      "\u001b[0;32m~/CUNY_MSDS/data604/traffic/trafficSimulator-main/src/trafficSimulator/window.py\u001b[0m in \u001b[0;36mrun\u001b[0;34m(self, steps_per_update)\u001b[0m\n\u001b[1;32m     93\u001b[0m         \u001b[0;32mdef\u001b[0m \u001b[0mloop\u001b[0m\u001b[0;34m(\u001b[0m\u001b[0msim\u001b[0m\u001b[0;34m)\u001b[0m\u001b[0;34m:\u001b[0m\u001b[0;34m\u001b[0m\u001b[0;34m\u001b[0m\u001b[0m\n\u001b[1;32m     94\u001b[0m             \u001b[0msim\u001b[0m\u001b[0;34m.\u001b[0m\u001b[0mrun\u001b[0m\u001b[0;34m(\u001b[0m\u001b[0msteps_per_update\u001b[0m\u001b[0;34m)\u001b[0m\u001b[0;34m\u001b[0m\u001b[0;34m\u001b[0m\u001b[0m\n\u001b[0;32m---> 95\u001b[0;31m         \u001b[0mself\u001b[0m\u001b[0;34m.\u001b[0m\u001b[0mloop\u001b[0m\u001b[0;34m(\u001b[0m\u001b[0mloop\u001b[0m\u001b[0;34m)\u001b[0m\u001b[0;34m\u001b[0m\u001b[0;34m\u001b[0m\u001b[0m\n\u001b[0m\u001b[1;32m     96\u001b[0m \u001b[0;34m\u001b[0m\u001b[0m\n\u001b[1;32m     97\u001b[0m     \u001b[0;32mdef\u001b[0m \u001b[0mconvert\u001b[0m\u001b[0;34m(\u001b[0m\u001b[0mself\u001b[0m\u001b[0;34m,\u001b[0m \u001b[0mx\u001b[0m\u001b[0;34m,\u001b[0m \u001b[0my\u001b[0m\u001b[0;34m=\u001b[0m\u001b[0;32mNone\u001b[0m\u001b[0;34m)\u001b[0m\u001b[0;34m:\u001b[0m\u001b[0;34m\u001b[0m\u001b[0;34m\u001b[0m\u001b[0m\n",
      "\u001b[0;32m~/CUNY_MSDS/data604/traffic/trafficSimulator-main/src/trafficSimulator/window.py\u001b[0m in \u001b[0;36mloop\u001b[0;34m(self, loop)\u001b[0m\n\u001b[1;32m     54\u001b[0m \u001b[0;34m\u001b[0m\u001b[0m\n\u001b[1;32m     55\u001b[0m             \u001b[0;31m# Draw simulation\u001b[0m\u001b[0;34m\u001b[0m\u001b[0;34m\u001b[0m\u001b[0;34m\u001b[0m\u001b[0m\n\u001b[0;32m---> 56\u001b[0;31m             \u001b[0mself\u001b[0m\u001b[0;34m.\u001b[0m\u001b[0mdraw\u001b[0m\u001b[0;34m(\u001b[0m\u001b[0;34m)\u001b[0m\u001b[0;34m\u001b[0m\u001b[0;34m\u001b[0m\u001b[0m\n\u001b[0m\u001b[1;32m     57\u001b[0m \u001b[0;34m\u001b[0m\u001b[0m\n\u001b[1;32m     58\u001b[0m             \u001b[0;31m# Update window\u001b[0m\u001b[0;34m\u001b[0m\u001b[0;34m\u001b[0m\u001b[0;34m\u001b[0m\u001b[0m\n",
      "\u001b[0;32m~/CUNY_MSDS/data604/traffic/trafficSimulator-main/src/trafficSimulator/window.py\u001b[0m in \u001b[0;36mdraw\u001b[0;34m(self)\u001b[0m\n\u001b[1;32m    321\u001b[0m         \u001b[0;31m# self.draw_axes()\u001b[0m\u001b[0;34m\u001b[0m\u001b[0;34m\u001b[0m\u001b[0;34m\u001b[0m\u001b[0m\n\u001b[1;32m    322\u001b[0m \u001b[0;34m\u001b[0m\u001b[0m\n\u001b[0;32m--> 323\u001b[0;31m         \u001b[0mself\u001b[0m\u001b[0;34m.\u001b[0m\u001b[0mdraw_roads\u001b[0m\u001b[0;34m(\u001b[0m\u001b[0;34m)\u001b[0m\u001b[0;34m\u001b[0m\u001b[0;34m\u001b[0m\u001b[0m\n\u001b[0m\u001b[1;32m    324\u001b[0m         \u001b[0mself\u001b[0m\u001b[0;34m.\u001b[0m\u001b[0mdraw_vehicles\u001b[0m\u001b[0;34m(\u001b[0m\u001b[0;34m)\u001b[0m\u001b[0;34m\u001b[0m\u001b[0;34m\u001b[0m\u001b[0m\n\u001b[1;32m    325\u001b[0m         \u001b[0mself\u001b[0m\u001b[0;34m.\u001b[0m\u001b[0mdraw_signals\u001b[0m\u001b[0;34m(\u001b[0m\u001b[0;34m)\u001b[0m\u001b[0;34m\u001b[0m\u001b[0;34m\u001b[0m\u001b[0m\n",
      "\u001b[0;32m~/CUNY_MSDS/data604/traffic/trafficSimulator-main/src/trafficSimulator/window.py\u001b[0m in \u001b[0;36mdraw_roads\u001b[0;34m(self)\u001b[0m\n\u001b[1;32m    261\u001b[0m                         \u001b[0;34m(\u001b[0m\u001b[0;34m-\u001b[0m\u001b[0;36m1.25\u001b[0m\u001b[0;34m,\u001b[0m \u001b[0;36m0.2\u001b[0m\u001b[0;34m)\u001b[0m\u001b[0;34m,\u001b[0m\u001b[0;34m\u001b[0m\u001b[0;34m\u001b[0m\u001b[0m\n\u001b[1;32m    262\u001b[0m                         \u001b[0mcos\u001b[0m\u001b[0;34m=\u001b[0m\u001b[0mroad\u001b[0m\u001b[0;34m.\u001b[0m\u001b[0mangle_cos\u001b[0m\u001b[0;34m,\u001b[0m\u001b[0;34m\u001b[0m\u001b[0;34m\u001b[0m\u001b[0m\n\u001b[0;32m--> 263\u001b[0;31m                         \u001b[0msin\u001b[0m\u001b[0;34m=\u001b[0m\u001b[0mroad\u001b[0m\u001b[0;34m.\u001b[0m\u001b[0mangle_sin\u001b[0m\u001b[0;34m\u001b[0m\u001b[0;34m\u001b[0m\u001b[0m\n\u001b[0m\u001b[1;32m    264\u001b[0m                     )   \n\u001b[1;32m    265\u001b[0m \u001b[0;34m\u001b[0m\u001b[0m\n",
      "\u001b[0;32m~/CUNY_MSDS/data604/traffic/trafficSimulator-main/src/trafficSimulator/window.py\u001b[0m in \u001b[0;36marrow\u001b[0;34m(self, pos, size, angle, cos, sin, color)\u001b[0m\n\u001b[1;32m    188\u001b[0m             \u001b[0msin\u001b[0m\u001b[0;34m=\u001b[0m\u001b[0;34m(\u001b[0m\u001b[0mcos\u001b[0m \u001b[0;34m+\u001b[0m \u001b[0msin\u001b[0m\u001b[0;34m)\u001b[0m \u001b[0;34m/\u001b[0m \u001b[0mnp\u001b[0m\u001b[0;34m.\u001b[0m\u001b[0msqrt\u001b[0m\u001b[0;34m(\u001b[0m\u001b[0;36m2\u001b[0m\u001b[0;34m)\u001b[0m\u001b[0;34m,\u001b[0m\u001b[0;34m\u001b[0m\u001b[0;34m\u001b[0m\u001b[0m\n\u001b[1;32m    189\u001b[0m             \u001b[0mcolor\u001b[0m\u001b[0;34m=\u001b[0m\u001b[0mcolor\u001b[0m\u001b[0;34m,\u001b[0m\u001b[0;34m\u001b[0m\u001b[0;34m\u001b[0m\u001b[0m\n\u001b[0;32m--> 190\u001b[0;31m             \u001b[0mcentered\u001b[0m\u001b[0;34m=\u001b[0m\u001b[0;32mFalse\u001b[0m\u001b[0;34m\u001b[0m\u001b[0;34m\u001b[0m\u001b[0m\n\u001b[0m\u001b[1;32m    191\u001b[0m         )\n\u001b[1;32m    192\u001b[0m \u001b[0;34m\u001b[0m\u001b[0m\n",
      "\u001b[0;32m~/CUNY_MSDS/data604/traffic/trafficSimulator-main/src/trafficSimulator/window.py\u001b[0m in \u001b[0;36mrotated_box\u001b[0;34m(self, pos, size, angle, cos, sin, centered, color, filled)\u001b[0m\n\u001b[1;32m    170\u001b[0m         \u001b[0;32melse\u001b[0m\u001b[0;34m:\u001b[0m\u001b[0;34m\u001b[0m\u001b[0;34m\u001b[0m\u001b[0m\n\u001b[1;32m    171\u001b[0m             vertices = self.convert(\n\u001b[0;32m--> 172\u001b[0;31m                 \u001b[0;34m[\u001b[0m\u001b[0mvertex\u001b[0m\u001b[0;34m(\u001b[0m\u001b[0;34m*\u001b[0m\u001b[0me\u001b[0m\u001b[0;34m)\u001b[0m \u001b[0;32mfor\u001b[0m \u001b[0me\u001b[0m \u001b[0;32min\u001b[0m \u001b[0;34m[\u001b[0m\u001b[0;34m(\u001b[0m\u001b[0;36m0\u001b[0m\u001b[0;34m,\u001b[0m\u001b[0;34m-\u001b[0m\u001b[0;36m1\u001b[0m\u001b[0;34m)\u001b[0m\u001b[0;34m,\u001b[0m \u001b[0;34m(\u001b[0m\u001b[0;36m0\u001b[0m\u001b[0;34m,\u001b[0m \u001b[0;36m1\u001b[0m\u001b[0;34m)\u001b[0m\u001b[0;34m,\u001b[0m \u001b[0;34m(\u001b[0m\u001b[0;36m2\u001b[0m\u001b[0;34m,\u001b[0m\u001b[0;36m1\u001b[0m\u001b[0;34m)\u001b[0m\u001b[0;34m,\u001b[0m \u001b[0;34m(\u001b[0m\u001b[0;36m2\u001b[0m\u001b[0;34m,\u001b[0m\u001b[0;34m-\u001b[0m\u001b[0;36m1\u001b[0m\u001b[0;34m)\u001b[0m\u001b[0;34m]\u001b[0m\u001b[0;34m]\u001b[0m\u001b[0;34m\u001b[0m\u001b[0;34m\u001b[0m\u001b[0m\n\u001b[0m\u001b[1;32m    173\u001b[0m             )\n\u001b[1;32m    174\u001b[0m \u001b[0;34m\u001b[0m\u001b[0m\n",
      "\u001b[0;32m~/CUNY_MSDS/data604/traffic/trafficSimulator-main/src/trafficSimulator/window.py\u001b[0m in \u001b[0;36m<listcomp>\u001b[0;34m(.0)\u001b[0m\n\u001b[1;32m    170\u001b[0m         \u001b[0;32melse\u001b[0m\u001b[0;34m:\u001b[0m\u001b[0;34m\u001b[0m\u001b[0;34m\u001b[0m\u001b[0m\n\u001b[1;32m    171\u001b[0m             vertices = self.convert(\n\u001b[0;32m--> 172\u001b[0;31m                 \u001b[0;34m[\u001b[0m\u001b[0mvertex\u001b[0m\u001b[0;34m(\u001b[0m\u001b[0;34m*\u001b[0m\u001b[0me\u001b[0m\u001b[0;34m)\u001b[0m \u001b[0;32mfor\u001b[0m \u001b[0me\u001b[0m \u001b[0;32min\u001b[0m \u001b[0;34m[\u001b[0m\u001b[0;34m(\u001b[0m\u001b[0;36m0\u001b[0m\u001b[0;34m,\u001b[0m\u001b[0;34m-\u001b[0m\u001b[0;36m1\u001b[0m\u001b[0;34m)\u001b[0m\u001b[0;34m,\u001b[0m \u001b[0;34m(\u001b[0m\u001b[0;36m0\u001b[0m\u001b[0;34m,\u001b[0m \u001b[0;36m1\u001b[0m\u001b[0;34m)\u001b[0m\u001b[0;34m,\u001b[0m \u001b[0;34m(\u001b[0m\u001b[0;36m2\u001b[0m\u001b[0;34m,\u001b[0m\u001b[0;36m1\u001b[0m\u001b[0;34m)\u001b[0m\u001b[0;34m,\u001b[0m \u001b[0;34m(\u001b[0m\u001b[0;36m2\u001b[0m\u001b[0;34m,\u001b[0m\u001b[0;34m-\u001b[0m\u001b[0;36m1\u001b[0m\u001b[0;34m)\u001b[0m\u001b[0;34m]\u001b[0m\u001b[0;34m]\u001b[0m\u001b[0;34m\u001b[0m\u001b[0;34m\u001b[0m\u001b[0m\n\u001b[0m\u001b[1;32m    173\u001b[0m             )\n\u001b[1;32m    174\u001b[0m \u001b[0;34m\u001b[0m\u001b[0m\n",
      "\u001b[0;32m~/CUNY_MSDS/data604/traffic/trafficSimulator-main/src/trafficSimulator/window.py\u001b[0m in \u001b[0;36m<lambda>\u001b[0;34m(e1, e2)\u001b[0m\n\u001b[1;32m    161\u001b[0m         vertex = lambda e1, e2: (\n\u001b[1;32m    162\u001b[0m             \u001b[0mx\u001b[0m \u001b[0;34m+\u001b[0m \u001b[0;34m(\u001b[0m\u001b[0me1\u001b[0m\u001b[0;34m*\u001b[0m\u001b[0ml\u001b[0m\u001b[0;34m*\u001b[0m\u001b[0mcos\u001b[0m \u001b[0;34m+\u001b[0m \u001b[0me2\u001b[0m\u001b[0;34m*\u001b[0m\u001b[0mh\u001b[0m\u001b[0;34m*\u001b[0m\u001b[0msin\u001b[0m\u001b[0;34m)\u001b[0m\u001b[0;34m/\u001b[0m\u001b[0;36m2\u001b[0m\u001b[0;34m,\u001b[0m\u001b[0;34m\u001b[0m\u001b[0;34m\u001b[0m\u001b[0m\n\u001b[0;32m--> 163\u001b[0;31m             \u001b[0my\u001b[0m \u001b[0;34m+\u001b[0m \u001b[0;34m(\u001b[0m\u001b[0me1\u001b[0m\u001b[0;34m*\u001b[0m\u001b[0ml\u001b[0m\u001b[0;34m*\u001b[0m\u001b[0msin\u001b[0m \u001b[0;34m-\u001b[0m \u001b[0me2\u001b[0m\u001b[0;34m*\u001b[0m\u001b[0mh\u001b[0m\u001b[0;34m*\u001b[0m\u001b[0mcos\u001b[0m\u001b[0;34m)\u001b[0m\u001b[0;34m/\u001b[0m\u001b[0;36m2\u001b[0m\u001b[0;34m\u001b[0m\u001b[0;34m\u001b[0m\u001b[0m\n\u001b[0m\u001b[1;32m    164\u001b[0m         )\n\u001b[1;32m    165\u001b[0m \u001b[0;34m\u001b[0m\u001b[0m\n",
      "\u001b[0;31mKeyboardInterrupt\u001b[0m: "
     ]
    }
   ],
   "source": [
    "# Start simulation\n",
    "\n",
    "win = Window(sim)\n",
    "win.zoom = 5  # use two fingers to change this zoom while running\n",
    "win.run(steps_per_update=3)  # controls the speed of the visualization (higher = faster)"
   ]
  },
  {
   "cell_type": "code",
   "execution_count": null,
   "metadata": {},
   "outputs": [],
   "source": []
  },
  {
   "cell_type": "markdown",
   "metadata": {},
   "source": [
    "The first traffic flow is generated by these parameters, and is run long enough to let 250 cars through the intersection.   The only parameters I'll change for the next generator simulations are the `veh_rate`, which controls how frequently vehicles are stochastically added to the roads, and the last 4 tuple parameters, which control the ultimate directions of each of the cars that is generated on each of the 4 roads.  In SIM_1, all 4 roads have the same directional weightings: (3, 1, 1).  These numbers are the weightings for a uniform sampling.  So picture a 5-sided die being rolled 250 times here, and 3 of the 5 faces of the die say \"STRAIGHT\", while one each say \"LEFT\" and \"RIGHT\".  \n",
    "\n",
    "While the visible screen defaults to only showing a fraction of the `lenroad`=180 units, you can zoom out with two fingers to see the generated vehicles from their inception.  The idea was to see how much cars bunch up before they get to the visible intersection, in the cases where the drivers had different acceleration, velocity, and braking tendencies.  The `qzone` parameter determines how far back from the intersection the car is considered \"stopped\" or \"in line\".  I have it set to 1.5 carlengths in these simulations.  The other params determine how the individual driver drives and where people slow down and stop on all 4 roads.  I would like to experiment with those more, but there is kind of a delicate balance to the \"logic\" of keeping the traffic flowing without causing constant crashes in a non-threadsafe environment like pygame.  Which is why every intersection needs something like SimPy, which can keep a strict, single-thread order to every time step, unlike pygame, and unlike people in the real world.  Although it really is surprising we humans can handle something as complex as a 4-way stop sign, to be fair to us.  "
   ]
  },
  {
   "cell_type": "code",
   "execution_count": null,
   "metadata": {},
   "outputs": [],
   "source": [
    "SIM_1 = {'npseed': 604, 'veh_rate': 40, 'lenroad': 180, 'v': 15, 'a': 4, 'b': 4,\n",
    "        \"LEFT\": 3, \"STRAIGHT\": 2, \"RIGHT\": 2, 'qzone': 6, 'slow_dist': 22,\n",
    "        'slow_fac': .4, 'stop_dist': 7, 'road_0': (3,1,1), 'road_1': (3,1,1), \n",
    "         'road_2': (3,1,1), 'road_3': (3,1,1)}"
   ]
  },
  {
   "cell_type": "code",
   "execution_count": 2,
   "metadata": {},
   "outputs": [],
   "source": [
    "def logDF(simlog):\n",
    "    return pd.DataFrame(simlog, columns=['Road', 'enter_Q', \n",
    "                                         'time_needed', 'exit_Q', 'direction'])"
   ]
  },
  {
   "cell_type": "code",
   "execution_count": null,
   "metadata": {},
   "outputs": [],
   "source": [
    "SIM_1_DF = logDF(sim.popped)\n",
    "SIM_1_DF.head()"
   ]
  },
  {
   "cell_type": "code",
   "execution_count": null,
   "metadata": {},
   "outputs": [],
   "source": [
    "#SIM_1_DF.to_csv(\"SIM_1_DF.csv\")"
   ]
  },
  {
   "cell_type": "code",
   "execution_count": null,
   "metadata": {},
   "outputs": [],
   "source": []
  },
  {
   "cell_type": "markdown",
   "metadata": {},
   "source": [
    "For the second flow generator, I'll increase the generation rate from 40 to 60, and I'll make most cars want to head East.  This will jam up the traffic, mostly from the increased generation rate."
   ]
  },
  {
   "cell_type": "code",
   "execution_count": null,
   "metadata": {},
   "outputs": [],
   "source": [
    "SIM_2 = {'npseed': 604, 'veh_rate': 60, 'lenroad': 180, 'v': 15, 'a': 4, 'b': 4,\n",
    "        \"LEFT\": 3, \"STRAIGHT\": 2, \"RIGHT\": 2, 'qzone': 6, 'slow_dist': 22,\n",
    "        'slow_fac': .4, 'stop_dist': 7, 'road_0': (4,1,1), 'road_1': (2,1,2), \n",
    "         'road_2': (1,1,1), 'road_3': (2,1,4)}"
   ]
  },
  {
   "cell_type": "code",
   "execution_count": 8,
   "metadata": {},
   "outputs": [],
   "source": [
    "sim2 = Simulation()\n",
    "np.random.seed(604)\n",
    "# The road layout is shaped with these\n",
    "n = 12   # how many straight segments to a turn (higher is more circular/smoother)\n",
    "a = 2    # affects the width of the roads\n",
    "b = 8   # adds curvature to the corners\n",
    "l = 180  # makes the window a smaller square (smaller = shorter roads). \n",
    "        ### I'm making it high to bunch together incoming cars more, before we see them, in a stab at reality\n",
    "\n",
    "# Nodes   ----> \"right\" and \"left\" orient to the way the compass point is driving towards the center\n",
    "WEST_RIGHT_START = (-b-l, a)\n",
    "WEST_LEFT_START = (-b-l, -a)\n",
    "\n",
    "SOUTH_RIGHT_START = (a, b+l)\n",
    "SOUTH_LEFT_START = (-a, b+l)\n",
    "\n",
    "EAST_RIGHT_START = (b+l, -a)\n",
    "EAST_LEFT_START = (b+l, a)\n",
    "\n",
    "NORTH_RIGHT_START = (-a, -b-l)\n",
    "NORTH_LEFT_START = (a, -b-l)\n",
    "\n",
    "\n",
    "WEST_RIGHT = (-b, a)\n",
    "WEST_LEFT =\t(-b, -a)\n",
    "\n",
    "SOUTH_RIGHT = (a, b)\n",
    "SOUTH_LEFT = (-a, b)\n",
    "\n",
    "EAST_RIGHT = (b, -a)\n",
    "EAST_LEFT = (b, a)\n",
    "\n",
    "NORTH_RIGHT = (-a, -b)\n",
    "NORTH_LEFT = (a, -b)\n",
    "\n",
    "# Roads\n",
    "WEST_INBOUND = (WEST_RIGHT_START, WEST_RIGHT)\n",
    "SOUTH_INBOUND = (SOUTH_RIGHT_START, SOUTH_RIGHT)\n",
    "EAST_INBOUND = (EAST_RIGHT_START, EAST_RIGHT)\n",
    "NORTH_INBOUND = (NORTH_RIGHT_START, NORTH_RIGHT)\n",
    "\n",
    "WEST_OUTBOUND = (WEST_LEFT, WEST_LEFT_START)\n",
    "SOUTH_OUTBOUND = (SOUTH_LEFT, SOUTH_LEFT_START)\n",
    "EAST_OUTBOUND = (EAST_LEFT, EAST_LEFT_START)\n",
    "NORTH_OUTBOUND = (NORTH_LEFT, NORTH_LEFT_START)\n",
    "\n",
    "WEST_STRAIGHT = (WEST_RIGHT, EAST_LEFT)\n",
    "SOUTH_STRAIGHT = (SOUTH_RIGHT, NORTH_LEFT)\n",
    "EAST_STRAIGHT = (EAST_RIGHT, WEST_LEFT)\n",
    "NORTH_STRAIGHT = (NORTH_RIGHT, SOUTH_LEFT)\n",
    "\n",
    "WEST_RIGHT_TURN = turn_road(WEST_RIGHT, SOUTH_LEFT, TURN_RIGHT, n)\n",
    "WEST_LEFT_TURN = turn_road(WEST_RIGHT, NORTH_LEFT, TURN_LEFT, n)\n",
    "\n",
    "SOUTH_RIGHT_TURN = turn_road(SOUTH_RIGHT, EAST_LEFT, TURN_RIGHT, n)\n",
    "SOUTH_LEFT_TURN = turn_road(SOUTH_RIGHT, WEST_LEFT, TURN_LEFT, n)\n",
    "\n",
    "EAST_RIGHT_TURN = turn_road(EAST_RIGHT, NORTH_LEFT, TURN_RIGHT, n)\n",
    "EAST_LEFT_TURN = turn_road(EAST_RIGHT, SOUTH_LEFT, TURN_LEFT, n)\n",
    "\n",
    "NORTH_RIGHT_TURN = turn_road(NORTH_RIGHT, WEST_LEFT, TURN_RIGHT, n)\n",
    "NORTH_LEFT_TURN = turn_road(NORTH_RIGHT, EAST_LEFT, TURN_LEFT, n)\n",
    "\n",
    "sim2.create_roads([\n",
    "    WEST_INBOUND,\n",
    "    SOUTH_INBOUND,\n",
    "    EAST_INBOUND,\n",
    "    NORTH_INBOUND,\n",
    "\n",
    "    WEST_OUTBOUND,\n",
    "    SOUTH_OUTBOUND,\n",
    "    EAST_OUTBOUND,\n",
    "    NORTH_OUTBOUND,\n",
    "\n",
    "    WEST_STRAIGHT,\n",
    "    SOUTH_STRAIGHT,\n",
    "    EAST_STRAIGHT,\n",
    "    NORTH_STRAIGHT,\n",
    "\n",
    "    *WEST_RIGHT_TURN,  # so this is n little roads\n",
    "    *WEST_LEFT_TURN,   # and this is too\n",
    "\n",
    "    *SOUTH_RIGHT_TURN,\n",
    "    *SOUTH_LEFT_TURN,\n",
    "\n",
    "    *EAST_RIGHT_TURN,\n",
    "    *EAST_LEFT_TURN,\n",
    "\n",
    "    *NORTH_RIGHT_TURN,\n",
    "    *NORTH_LEFT_TURN\n",
    "])\n",
    "\n",
    "def road(a):\n",
    "    # build many (n, from above, to be precise) small roads to model a turn\n",
    "    return range(a, a+n)    \n",
    "\n",
    "sim2.create_gen({\n",
    "'vehicle_rate': 60,   # changed this from previous sim\n",
    "'vehicles':[\n",
    "    [4, {'path': [0, 8, 6], 'direction': 'STRAIGHT'}],   # [WEST_INBOUND, WEST_STRAIGHT, EAST_OUTBOUND],  from above roads array\n",
    "    [1, {'path': [0, *road(12), 5], 'direction': 'RIGHT'}],   # [WEST_INBOUND, *WEST_RIGHT_TURN, SOUTH_OUTBOUND],  from above roads array\n",
    "    [1, {'path': [0, *road(12+n), 7], 'direction': 'LEFT'}],   # [WEST_INBOUND, *WEST_LEFT_TURN, NORTH_OUTBOUND],  from above roads array\n",
    "\n",
    "    [2, {'path': [1, 9, 7], 'direction': 'STRAIGHT'}],   # [SOUTH_INBOUND, SOUTH_STRAIGHT, NORTH_OUTBOUND]\n",
    "    [1, {'path': [1, *road(12+2*n), 6], 'direction': 'RIGHT'}],   # etc\n",
    "    [2, {'path': [1, *road(12+3*n), 4], 'direction': 'LEFT'}],\n",
    "\n",
    "\n",
    "    [1, {'path': [2, 10, 4], 'direction': 'STRAIGHT'}],  # [EAST_INBOUND, EAST_STRAIGHT, EAST_OUTBOUND]\n",
    "    [1, {'path': [2, *road(12+4*n), 7], 'direction': 'RIGHT'}],  # etc\n",
    "    [1, {'path': [2, *road(12+5*n), 5], 'direction': 'LEFT'}],\n",
    "\n",
    "    [1, {'path': [3, 11, 5], 'direction': 'STRAIGHT'}],  # [NORTH_INBOUND, etc]\n",
    "    [2, {'path': [3, *road(12+6*n), 4], 'direction': 'RIGHT'}],\n",
    "    [4, {'path': [3, *road(12+7*n), 6], 'direction': 'LEFT'}]\n",
    "]})\n",
    "\n",
    "sim2.create_signal([[0],[1],[2],[3]]) ;  # using 4 separate groups here so that each stop sign can function individually\n",
    "                                        # Though my signals are permanently on \"red light\" for my project"
   ]
  },
  {
   "cell_type": "markdown",
   "metadata": {},
   "source": [
    "Note that if you run the cell below, it should open a pygame window that shows the simulation, which may or may not be what you want.  But if so, you can stop it by coming back to this notebook and hitting the black square under the word \"Kernel\" in the toolbar at the top."
   ]
  },
  {
   "cell_type": "code",
   "execution_count": 9,
   "metadata": {},
   "outputs": [
    {
     "ename": "KeyboardInterrupt",
     "evalue": "",
     "output_type": "error",
     "traceback": [
      "\u001b[0;31m---------------------------------------------------------------------------\u001b[0m",
      "\u001b[0;31mKeyboardInterrupt\u001b[0m                         Traceback (most recent call last)",
      "\u001b[0;32m<ipython-input-9-1f844f7f5b06>\u001b[0m in \u001b[0;36m<module>\u001b[0;34m\u001b[0m\n\u001b[1;32m      3\u001b[0m \u001b[0mwin\u001b[0m \u001b[0;34m=\u001b[0m \u001b[0mWindow\u001b[0m\u001b[0;34m(\u001b[0m\u001b[0msim2\u001b[0m\u001b[0;34m)\u001b[0m\u001b[0;34m\u001b[0m\u001b[0;34m\u001b[0m\u001b[0m\n\u001b[1;32m      4\u001b[0m \u001b[0mwin\u001b[0m\u001b[0;34m.\u001b[0m\u001b[0mzoom\u001b[0m \u001b[0;34m=\u001b[0m \u001b[0;36m5\u001b[0m  \u001b[0;31m# use two fingers to change this zoom while running\u001b[0m\u001b[0;34m\u001b[0m\u001b[0;34m\u001b[0m\u001b[0m\n\u001b[0;32m----> 5\u001b[0;31m \u001b[0mwin\u001b[0m\u001b[0;34m.\u001b[0m\u001b[0mrun\u001b[0m\u001b[0;34m(\u001b[0m\u001b[0msteps_per_update\u001b[0m\u001b[0;34m=\u001b[0m\u001b[0;36m3\u001b[0m\u001b[0;34m)\u001b[0m  \u001b[0;31m# controls the speed of the visualization (higher = faster)\u001b[0m\u001b[0;34m\u001b[0m\u001b[0;34m\u001b[0m\u001b[0m\n\u001b[0m",
      "\u001b[0;32m~/CUNY_MSDS/data604/traffic/trafficSimulator-main/src/trafficSimulator/window.py\u001b[0m in \u001b[0;36mrun\u001b[0;34m(self, steps_per_update)\u001b[0m\n\u001b[1;32m     93\u001b[0m         \u001b[0;32mdef\u001b[0m \u001b[0mloop\u001b[0m\u001b[0;34m(\u001b[0m\u001b[0msim\u001b[0m\u001b[0;34m)\u001b[0m\u001b[0;34m:\u001b[0m\u001b[0;34m\u001b[0m\u001b[0;34m\u001b[0m\u001b[0m\n\u001b[1;32m     94\u001b[0m             \u001b[0msim\u001b[0m\u001b[0;34m.\u001b[0m\u001b[0mrun\u001b[0m\u001b[0;34m(\u001b[0m\u001b[0msteps_per_update\u001b[0m\u001b[0;34m)\u001b[0m\u001b[0;34m\u001b[0m\u001b[0;34m\u001b[0m\u001b[0m\n\u001b[0;32m---> 95\u001b[0;31m         \u001b[0mself\u001b[0m\u001b[0;34m.\u001b[0m\u001b[0mloop\u001b[0m\u001b[0;34m(\u001b[0m\u001b[0mloop\u001b[0m\u001b[0;34m)\u001b[0m\u001b[0;34m\u001b[0m\u001b[0;34m\u001b[0m\u001b[0m\n\u001b[0m\u001b[1;32m     96\u001b[0m \u001b[0;34m\u001b[0m\u001b[0m\n\u001b[1;32m     97\u001b[0m     \u001b[0;32mdef\u001b[0m \u001b[0mconvert\u001b[0m\u001b[0;34m(\u001b[0m\u001b[0mself\u001b[0m\u001b[0;34m,\u001b[0m \u001b[0mx\u001b[0m\u001b[0;34m,\u001b[0m \u001b[0my\u001b[0m\u001b[0;34m=\u001b[0m\u001b[0;32mNone\u001b[0m\u001b[0;34m)\u001b[0m\u001b[0;34m:\u001b[0m\u001b[0;34m\u001b[0m\u001b[0;34m\u001b[0m\u001b[0m\n",
      "\u001b[0;32m~/CUNY_MSDS/data604/traffic/trafficSimulator-main/src/trafficSimulator/window.py\u001b[0m in \u001b[0;36mloop\u001b[0;34m(self, loop)\u001b[0m\n\u001b[1;32m     54\u001b[0m \u001b[0;34m\u001b[0m\u001b[0m\n\u001b[1;32m     55\u001b[0m             \u001b[0;31m# Draw simulation\u001b[0m\u001b[0;34m\u001b[0m\u001b[0;34m\u001b[0m\u001b[0;34m\u001b[0m\u001b[0m\n\u001b[0;32m---> 56\u001b[0;31m             \u001b[0mself\u001b[0m\u001b[0;34m.\u001b[0m\u001b[0mdraw\u001b[0m\u001b[0;34m(\u001b[0m\u001b[0;34m)\u001b[0m\u001b[0;34m\u001b[0m\u001b[0;34m\u001b[0m\u001b[0m\n\u001b[0m\u001b[1;32m     57\u001b[0m \u001b[0;34m\u001b[0m\u001b[0m\n\u001b[1;32m     58\u001b[0m             \u001b[0;31m# Update window\u001b[0m\u001b[0;34m\u001b[0m\u001b[0;34m\u001b[0m\u001b[0;34m\u001b[0m\u001b[0m\n",
      "\u001b[0;32m~/CUNY_MSDS/data604/traffic/trafficSimulator-main/src/trafficSimulator/window.py\u001b[0m in \u001b[0;36mdraw\u001b[0;34m(self)\u001b[0m\n\u001b[1;32m    321\u001b[0m         \u001b[0;31m# self.draw_axes()\u001b[0m\u001b[0;34m\u001b[0m\u001b[0;34m\u001b[0m\u001b[0;34m\u001b[0m\u001b[0m\n\u001b[1;32m    322\u001b[0m \u001b[0;34m\u001b[0m\u001b[0m\n\u001b[0;32m--> 323\u001b[0;31m         \u001b[0mself\u001b[0m\u001b[0;34m.\u001b[0m\u001b[0mdraw_roads\u001b[0m\u001b[0;34m(\u001b[0m\u001b[0;34m)\u001b[0m\u001b[0;34m\u001b[0m\u001b[0;34m\u001b[0m\u001b[0m\n\u001b[0m\u001b[1;32m    324\u001b[0m         \u001b[0mself\u001b[0m\u001b[0;34m.\u001b[0m\u001b[0mdraw_vehicles\u001b[0m\u001b[0;34m(\u001b[0m\u001b[0;34m)\u001b[0m\u001b[0;34m\u001b[0m\u001b[0;34m\u001b[0m\u001b[0m\n\u001b[1;32m    325\u001b[0m         \u001b[0mself\u001b[0m\u001b[0;34m.\u001b[0m\u001b[0mdraw_signals\u001b[0m\u001b[0;34m(\u001b[0m\u001b[0;34m)\u001b[0m\u001b[0;34m\u001b[0m\u001b[0;34m\u001b[0m\u001b[0m\n",
      "\u001b[0;32m~/CUNY_MSDS/data604/traffic/trafficSimulator-main/src/trafficSimulator/window.py\u001b[0m in \u001b[0;36mdraw_roads\u001b[0;34m(self)\u001b[0m\n\u001b[1;32m    261\u001b[0m                         \u001b[0;34m(\u001b[0m\u001b[0;34m-\u001b[0m\u001b[0;36m1.25\u001b[0m\u001b[0;34m,\u001b[0m \u001b[0;36m0.2\u001b[0m\u001b[0;34m)\u001b[0m\u001b[0;34m,\u001b[0m\u001b[0;34m\u001b[0m\u001b[0;34m\u001b[0m\u001b[0m\n\u001b[1;32m    262\u001b[0m                         \u001b[0mcos\u001b[0m\u001b[0;34m=\u001b[0m\u001b[0mroad\u001b[0m\u001b[0;34m.\u001b[0m\u001b[0mangle_cos\u001b[0m\u001b[0;34m,\u001b[0m\u001b[0;34m\u001b[0m\u001b[0;34m\u001b[0m\u001b[0m\n\u001b[0;32m--> 263\u001b[0;31m                         \u001b[0msin\u001b[0m\u001b[0;34m=\u001b[0m\u001b[0mroad\u001b[0m\u001b[0;34m.\u001b[0m\u001b[0mangle_sin\u001b[0m\u001b[0;34m\u001b[0m\u001b[0;34m\u001b[0m\u001b[0m\n\u001b[0m\u001b[1;32m    264\u001b[0m                     )   \n\u001b[1;32m    265\u001b[0m \u001b[0;34m\u001b[0m\u001b[0m\n",
      "\u001b[0;32m~/CUNY_MSDS/data604/traffic/trafficSimulator-main/src/trafficSimulator/window.py\u001b[0m in \u001b[0;36marrow\u001b[0;34m(self, pos, size, angle, cos, sin, color)\u001b[0m\n\u001b[1;32m    195\u001b[0m             \u001b[0msize\u001b[0m\u001b[0;34m,\u001b[0m\u001b[0;34m\u001b[0m\u001b[0;34m\u001b[0m\u001b[0m\n\u001b[1;32m    196\u001b[0m             \u001b[0mcos\u001b[0m\u001b[0;34m=\u001b[0m\u001b[0;34m(\u001b[0m\u001b[0mcos\u001b[0m \u001b[0;34m+\u001b[0m \u001b[0msin\u001b[0m\u001b[0;34m)\u001b[0m \u001b[0;34m/\u001b[0m \u001b[0mnp\u001b[0m\u001b[0;34m.\u001b[0m\u001b[0msqrt\u001b[0m\u001b[0;34m(\u001b[0m\u001b[0;36m2\u001b[0m\u001b[0;34m)\u001b[0m\u001b[0;34m,\u001b[0m\u001b[0;34m\u001b[0m\u001b[0;34m\u001b[0m\u001b[0m\n\u001b[0;32m--> 197\u001b[0;31m             \u001b[0msin\u001b[0m\u001b[0;34m=\u001b[0m\u001b[0;34m(\u001b[0m\u001b[0msin\u001b[0m \u001b[0;34m-\u001b[0m \u001b[0mcos\u001b[0m\u001b[0;34m)\u001b[0m \u001b[0;34m/\u001b[0m \u001b[0mnp\u001b[0m\u001b[0;34m.\u001b[0m\u001b[0msqrt\u001b[0m\u001b[0;34m(\u001b[0m\u001b[0;36m2\u001b[0m\u001b[0;34m)\u001b[0m\u001b[0;34m,\u001b[0m\u001b[0;34m\u001b[0m\u001b[0;34m\u001b[0m\u001b[0m\n\u001b[0m\u001b[1;32m    198\u001b[0m             \u001b[0mcolor\u001b[0m\u001b[0;34m=\u001b[0m\u001b[0mcolor\u001b[0m\u001b[0;34m,\u001b[0m\u001b[0;34m\u001b[0m\u001b[0;34m\u001b[0m\u001b[0m\n\u001b[1;32m    199\u001b[0m             \u001b[0mcentered\u001b[0m\u001b[0;34m=\u001b[0m\u001b[0;32mFalse\u001b[0m\u001b[0;34m\u001b[0m\u001b[0;34m\u001b[0m\u001b[0m\n",
      "\u001b[0;31mKeyboardInterrupt\u001b[0m: "
     ]
    }
   ],
   "source": [
    "# Start simulation\n",
    "\n",
    "win = Window(sim2)\n",
    "win.zoom = 5  # use two fingers to change this zoom while running\n",
    "win.run(steps_per_update=3)  # controls the speed of the visualization (higher = faster)"
   ]
  },
  {
   "cell_type": "code",
   "execution_count": 11,
   "metadata": {},
   "outputs": [
    {
     "data": {
      "text/html": [
       "<div>\n",
       "<style scoped>\n",
       "    .dataframe tbody tr th:only-of-type {\n",
       "        vertical-align: middle;\n",
       "    }\n",
       "\n",
       "    .dataframe tbody tr th {\n",
       "        vertical-align: top;\n",
       "    }\n",
       "\n",
       "    .dataframe thead th {\n",
       "        text-align: right;\n",
       "    }\n",
       "</style>\n",
       "<table border=\"1\" class=\"dataframe\">\n",
       "  <thead>\n",
       "    <tr style=\"text-align: right;\">\n",
       "      <th></th>\n",
       "      <th>Road</th>\n",
       "      <th>enter_Q</th>\n",
       "      <th>time_needed</th>\n",
       "      <th>exit_Q</th>\n",
       "      <th>direction</th>\n",
       "    </tr>\n",
       "  </thead>\n",
       "  <tbody>\n",
       "    <tr>\n",
       "      <td>0</td>\n",
       "      <td>2</td>\n",
       "      <td>13.98</td>\n",
       "      <td>2</td>\n",
       "      <td>14.95</td>\n",
       "      <td>RIGHT</td>\n",
       "    </tr>\n",
       "    <tr>\n",
       "      <td>1</td>\n",
       "      <td>1</td>\n",
       "      <td>14.98</td>\n",
       "      <td>2</td>\n",
       "      <td>16.91</td>\n",
       "      <td>RIGHT</td>\n",
       "    </tr>\n",
       "    <tr>\n",
       "      <td>2</td>\n",
       "      <td>1</td>\n",
       "      <td>18.22</td>\n",
       "      <td>2</td>\n",
       "      <td>19.47</td>\n",
       "      <td>STRAIGHT</td>\n",
       "    </tr>\n",
       "    <tr>\n",
       "      <td>3</td>\n",
       "      <td>0</td>\n",
       "      <td>19.02</td>\n",
       "      <td>3</td>\n",
       "      <td>20.95</td>\n",
       "      <td>LEFT</td>\n",
       "    </tr>\n",
       "    <tr>\n",
       "      <td>4</td>\n",
       "      <td>1</td>\n",
       "      <td>20.80</td>\n",
       "      <td>2</td>\n",
       "      <td>22.73</td>\n",
       "      <td>STRAIGHT</td>\n",
       "    </tr>\n",
       "  </tbody>\n",
       "</table>\n",
       "</div>"
      ],
      "text/plain": [
       "   Road  enter_Q  time_needed  exit_Q direction\n",
       "0     2    13.98            2   14.95     RIGHT\n",
       "1     1    14.98            2   16.91     RIGHT\n",
       "2     1    18.22            2   19.47  STRAIGHT\n",
       "3     0    19.02            3   20.95      LEFT\n",
       "4     1    20.80            2   22.73  STRAIGHT"
      ]
     },
     "execution_count": 11,
     "metadata": {},
     "output_type": "execute_result"
    }
   ],
   "source": [
    "SIM_2_DF = logDF(sim2.popped)\n",
    "SIM_2_DF.head()"
   ]
  },
  {
   "cell_type": "code",
   "execution_count": 12,
   "metadata": {},
   "outputs": [
    {
     "data": {
      "text/plain": [
       "152"
      ]
     },
     "execution_count": 12,
     "metadata": {},
     "output_type": "execute_result"
    }
   ],
   "source": [
    "len(sim2.popped)"
   ]
  },
  {
   "cell_type": "markdown",
   "metadata": {},
   "source": [
    "That was run for longer than the first one, and had more cars entering the gridlock.  But it processed far fewer, because the lanes jammed up.  "
   ]
  },
  {
   "cell_type": "code",
   "execution_count": 13,
   "metadata": {},
   "outputs": [],
   "source": [
    "#SIM_2_DF.to_csv(\"SIM_2_DF.csv\")"
   ]
  },
  {
   "cell_type": "code",
   "execution_count": null,
   "metadata": {},
   "outputs": [],
   "source": []
  },
  {
   "cell_type": "markdown",
   "metadata": {},
   "source": [
    "For the last flow generator, I'll dial it back to the 40 rate, but keep the directional bent towards the East."
   ]
  },
  {
   "cell_type": "code",
   "execution_count": 14,
   "metadata": {},
   "outputs": [],
   "source": [
    "SIM_3 = {'npseed': 604, 'veh_rate': 40, 'lenroad': 180, 'v': 15, 'a': 4, 'b': 4,\n",
    "        \"LEFT\": 3, \"STRAIGHT\": 2, \"RIGHT\": 2, 'qzone': 6, 'slow_dist': 22,\n",
    "        'slow_fac': .4, 'stop_dist': 7, 'road_0': (4,1,1), 'road_1': (2,1,2), \n",
    "         'road_2': (1,1,1), 'road_3': (2,1,4)}"
   ]
  },
  {
   "cell_type": "code",
   "execution_count": 4,
   "metadata": {},
   "outputs": [],
   "source": [
    "sim3 = Simulation()\n",
    "np.random.seed(604)\n",
    "# The road layout is shaped with these\n",
    "n = 12   # how many straight segments to a turn (higher is more circular/smoother)\n",
    "a = 2    # affects the width of the roads\n",
    "b = 8   # adds curvature to the corners\n",
    "l = 180  # makes the window a smaller square (smaller = shorter roads). \n",
    "        ### I'm making it high to bunch together incoming cars more, before we see them, in a stab at reality\n",
    "\n",
    "# Nodes   ----> \"right\" and \"left\" orient to the way the compass point is driving towards the center\n",
    "WEST_RIGHT_START = (-b-l, a)\n",
    "WEST_LEFT_START = (-b-l, -a)\n",
    "\n",
    "SOUTH_RIGHT_START = (a, b+l)\n",
    "SOUTH_LEFT_START = (-a, b+l)\n",
    "\n",
    "EAST_RIGHT_START = (b+l, -a)\n",
    "EAST_LEFT_START = (b+l, a)\n",
    "\n",
    "NORTH_RIGHT_START = (-a, -b-l)\n",
    "NORTH_LEFT_START = (a, -b-l)\n",
    "\n",
    "\n",
    "WEST_RIGHT = (-b, a)\n",
    "WEST_LEFT =\t(-b, -a)\n",
    "\n",
    "SOUTH_RIGHT = (a, b)\n",
    "SOUTH_LEFT = (-a, b)\n",
    "\n",
    "EAST_RIGHT = (b, -a)\n",
    "EAST_LEFT = (b, a)\n",
    "\n",
    "NORTH_RIGHT = (-a, -b)\n",
    "NORTH_LEFT = (a, -b)\n",
    "\n",
    "# Roads\n",
    "WEST_INBOUND = (WEST_RIGHT_START, WEST_RIGHT)\n",
    "SOUTH_INBOUND = (SOUTH_RIGHT_START, SOUTH_RIGHT)\n",
    "EAST_INBOUND = (EAST_RIGHT_START, EAST_RIGHT)\n",
    "NORTH_INBOUND = (NORTH_RIGHT_START, NORTH_RIGHT)\n",
    "\n",
    "WEST_OUTBOUND = (WEST_LEFT, WEST_LEFT_START)\n",
    "SOUTH_OUTBOUND = (SOUTH_LEFT, SOUTH_LEFT_START)\n",
    "EAST_OUTBOUND = (EAST_LEFT, EAST_LEFT_START)\n",
    "NORTH_OUTBOUND = (NORTH_LEFT, NORTH_LEFT_START)\n",
    "\n",
    "WEST_STRAIGHT = (WEST_RIGHT, EAST_LEFT)\n",
    "SOUTH_STRAIGHT = (SOUTH_RIGHT, NORTH_LEFT)\n",
    "EAST_STRAIGHT = (EAST_RIGHT, WEST_LEFT)\n",
    "NORTH_STRAIGHT = (NORTH_RIGHT, SOUTH_LEFT)\n",
    "\n",
    "WEST_RIGHT_TURN = turn_road(WEST_RIGHT, SOUTH_LEFT, TURN_RIGHT, n)\n",
    "WEST_LEFT_TURN = turn_road(WEST_RIGHT, NORTH_LEFT, TURN_LEFT, n)\n",
    "\n",
    "SOUTH_RIGHT_TURN = turn_road(SOUTH_RIGHT, EAST_LEFT, TURN_RIGHT, n)\n",
    "SOUTH_LEFT_TURN = turn_road(SOUTH_RIGHT, WEST_LEFT, TURN_LEFT, n)\n",
    "\n",
    "EAST_RIGHT_TURN = turn_road(EAST_RIGHT, NORTH_LEFT, TURN_RIGHT, n)\n",
    "EAST_LEFT_TURN = turn_road(EAST_RIGHT, SOUTH_LEFT, TURN_LEFT, n)\n",
    "\n",
    "NORTH_RIGHT_TURN = turn_road(NORTH_RIGHT, WEST_LEFT, TURN_RIGHT, n)\n",
    "NORTH_LEFT_TURN = turn_road(NORTH_RIGHT, EAST_LEFT, TURN_LEFT, n)\n",
    "\n",
    "sim3.create_roads([\n",
    "    WEST_INBOUND,\n",
    "    SOUTH_INBOUND,\n",
    "    EAST_INBOUND,\n",
    "    NORTH_INBOUND,\n",
    "\n",
    "    WEST_OUTBOUND,\n",
    "    SOUTH_OUTBOUND,\n",
    "    EAST_OUTBOUND,\n",
    "    NORTH_OUTBOUND,\n",
    "\n",
    "    WEST_STRAIGHT,\n",
    "    SOUTH_STRAIGHT,\n",
    "    EAST_STRAIGHT,\n",
    "    NORTH_STRAIGHT,\n",
    "\n",
    "    *WEST_RIGHT_TURN,  # so this is n little roads\n",
    "    *WEST_LEFT_TURN,   # and this is too\n",
    "\n",
    "    *SOUTH_RIGHT_TURN,\n",
    "    *SOUTH_LEFT_TURN,\n",
    "\n",
    "    *EAST_RIGHT_TURN,\n",
    "    *EAST_LEFT_TURN,\n",
    "\n",
    "    *NORTH_RIGHT_TURN,\n",
    "    *NORTH_LEFT_TURN\n",
    "])\n",
    "\n",
    "def road(a):\n",
    "    # build many (n, from above, to be precise) small roads to model a turn\n",
    "    return range(a, a+n)    \n",
    "\n",
    "sim3.create_gen({\n",
    "'vehicle_rate': 40,   # changed this from previous sim\n",
    "'vehicles':[\n",
    "    [4, {'path': [0, 8, 6], 'direction': 'STRAIGHT'}],   # [WEST_INBOUND, WEST_STRAIGHT, EAST_OUTBOUND],  from above roads array\n",
    "    [1, {'path': [0, *road(12), 5], 'direction': 'RIGHT'}],   # [WEST_INBOUND, *WEST_RIGHT_TURN, SOUTH_OUTBOUND],  from above roads array\n",
    "    [1, {'path': [0, *road(12+n), 7], 'direction': 'LEFT'}],   # [WEST_INBOUND, *WEST_LEFT_TURN, NORTH_OUTBOUND],  from above roads array\n",
    "\n",
    "    [2, {'path': [1, 9, 7], 'direction': 'STRAIGHT'}],   # [SOUTH_INBOUND, SOUTH_STRAIGHT, NORTH_OUTBOUND]\n",
    "    [1, {'path': [1, *road(12+2*n), 6], 'direction': 'RIGHT'}],   # etc\n",
    "    [2, {'path': [1, *road(12+3*n), 4], 'direction': 'LEFT'}],\n",
    "\n",
    "\n",
    "    [1, {'path': [2, 10, 4], 'direction': 'STRAIGHT'}],  # [EAST_INBOUND, EAST_STRAIGHT, EAST_OUTBOUND]\n",
    "    [1, {'path': [2, *road(12+4*n), 7], 'direction': 'RIGHT'}],  # etc\n",
    "    [1, {'path': [2, *road(12+5*n), 5], 'direction': 'LEFT'}],\n",
    "\n",
    "    [1, {'path': [3, 11, 5], 'direction': 'STRAIGHT'}],  # [NORTH_INBOUND, etc]\n",
    "    [2, {'path': [3, *road(12+6*n), 4], 'direction': 'RIGHT'}],\n",
    "    [4, {'path': [3, *road(12+7*n), 6], 'direction': 'LEFT'}]\n",
    "]})\n",
    "\n",
    "sim3.create_signal([[0],[1],[2],[3]]) ;  # using 4 separate groups here so that each stop sign can function individually\n",
    "                                        # Though my signals are permanently on \"red light\" for my project"
   ]
  },
  {
   "cell_type": "markdown",
   "metadata": {},
   "source": [
    "Note that if you run the cell below, it should open a pygame window that shows the simulation, which may or may not be what you want.  But if so, you can stop it by coming back to this notebook and hitting the black square under the word \"Kernel\" in the toolbar at the top."
   ]
  },
  {
   "cell_type": "code",
   "execution_count": 5,
   "metadata": {},
   "outputs": [
    {
     "ename": "KeyboardInterrupt",
     "evalue": "",
     "output_type": "error",
     "traceback": [
      "\u001b[0;31m---------------------------------------------------------------------------\u001b[0m",
      "\u001b[0;31mKeyboardInterrupt\u001b[0m                         Traceback (most recent call last)",
      "\u001b[0;32m<ipython-input-5-6d8797a6a003>\u001b[0m in \u001b[0;36m<module>\u001b[0;34m\u001b[0m\n\u001b[1;32m      3\u001b[0m \u001b[0mwin\u001b[0m \u001b[0;34m=\u001b[0m \u001b[0mWindow\u001b[0m\u001b[0;34m(\u001b[0m\u001b[0msim3\u001b[0m\u001b[0;34m)\u001b[0m\u001b[0;34m\u001b[0m\u001b[0;34m\u001b[0m\u001b[0m\n\u001b[1;32m      4\u001b[0m \u001b[0mwin\u001b[0m\u001b[0;34m.\u001b[0m\u001b[0mzoom\u001b[0m \u001b[0;34m=\u001b[0m \u001b[0;36m5\u001b[0m  \u001b[0;31m# use two fingers to change this zoom while running\u001b[0m\u001b[0;34m\u001b[0m\u001b[0;34m\u001b[0m\u001b[0m\n\u001b[0;32m----> 5\u001b[0;31m \u001b[0mwin\u001b[0m\u001b[0;34m.\u001b[0m\u001b[0mrun\u001b[0m\u001b[0;34m(\u001b[0m\u001b[0msteps_per_update\u001b[0m\u001b[0;34m=\u001b[0m\u001b[0;36m3\u001b[0m\u001b[0;34m)\u001b[0m  \u001b[0;31m# controls the speed of the visualization (higher = faster)\u001b[0m\u001b[0;34m\u001b[0m\u001b[0;34m\u001b[0m\u001b[0m\n\u001b[0m",
      "\u001b[0;32m~/CUNY_MSDS/data604/traffic/trafficSimulator-main/src/trafficSimulator/window.py\u001b[0m in \u001b[0;36mrun\u001b[0;34m(self, steps_per_update)\u001b[0m\n\u001b[1;32m     93\u001b[0m         \u001b[0;32mdef\u001b[0m \u001b[0mloop\u001b[0m\u001b[0;34m(\u001b[0m\u001b[0msim\u001b[0m\u001b[0;34m)\u001b[0m\u001b[0;34m:\u001b[0m\u001b[0;34m\u001b[0m\u001b[0;34m\u001b[0m\u001b[0m\n\u001b[1;32m     94\u001b[0m             \u001b[0msim\u001b[0m\u001b[0;34m.\u001b[0m\u001b[0mrun\u001b[0m\u001b[0;34m(\u001b[0m\u001b[0msteps_per_update\u001b[0m\u001b[0;34m)\u001b[0m\u001b[0;34m\u001b[0m\u001b[0;34m\u001b[0m\u001b[0m\n\u001b[0;32m---> 95\u001b[0;31m         \u001b[0mself\u001b[0m\u001b[0;34m.\u001b[0m\u001b[0mloop\u001b[0m\u001b[0;34m(\u001b[0m\u001b[0mloop\u001b[0m\u001b[0;34m)\u001b[0m\u001b[0;34m\u001b[0m\u001b[0;34m\u001b[0m\u001b[0m\n\u001b[0m\u001b[1;32m     96\u001b[0m \u001b[0;34m\u001b[0m\u001b[0m\n\u001b[1;32m     97\u001b[0m     \u001b[0;32mdef\u001b[0m \u001b[0mconvert\u001b[0m\u001b[0;34m(\u001b[0m\u001b[0mself\u001b[0m\u001b[0;34m,\u001b[0m \u001b[0mx\u001b[0m\u001b[0;34m,\u001b[0m \u001b[0my\u001b[0m\u001b[0;34m=\u001b[0m\u001b[0;32mNone\u001b[0m\u001b[0;34m)\u001b[0m\u001b[0;34m:\u001b[0m\u001b[0;34m\u001b[0m\u001b[0;34m\u001b[0m\u001b[0m\n",
      "\u001b[0;32m~/CUNY_MSDS/data604/traffic/trafficSimulator-main/src/trafficSimulator/window.py\u001b[0m in \u001b[0;36mloop\u001b[0;34m(self, loop)\u001b[0m\n\u001b[1;32m     54\u001b[0m \u001b[0;34m\u001b[0m\u001b[0m\n\u001b[1;32m     55\u001b[0m             \u001b[0;31m# Draw simulation\u001b[0m\u001b[0;34m\u001b[0m\u001b[0;34m\u001b[0m\u001b[0;34m\u001b[0m\u001b[0m\n\u001b[0;32m---> 56\u001b[0;31m             \u001b[0mself\u001b[0m\u001b[0;34m.\u001b[0m\u001b[0mdraw\u001b[0m\u001b[0;34m(\u001b[0m\u001b[0;34m)\u001b[0m\u001b[0;34m\u001b[0m\u001b[0;34m\u001b[0m\u001b[0m\n\u001b[0m\u001b[1;32m     57\u001b[0m \u001b[0;34m\u001b[0m\u001b[0m\n\u001b[1;32m     58\u001b[0m             \u001b[0;31m# Update window\u001b[0m\u001b[0;34m\u001b[0m\u001b[0;34m\u001b[0m\u001b[0;34m\u001b[0m\u001b[0m\n",
      "\u001b[0;32m~/CUNY_MSDS/data604/traffic/trafficSimulator-main/src/trafficSimulator/window.py\u001b[0m in \u001b[0;36mdraw\u001b[0;34m(self)\u001b[0m\n\u001b[1;32m    321\u001b[0m         \u001b[0;31m# self.draw_axes()\u001b[0m\u001b[0;34m\u001b[0m\u001b[0;34m\u001b[0m\u001b[0;34m\u001b[0m\u001b[0m\n\u001b[1;32m    322\u001b[0m \u001b[0;34m\u001b[0m\u001b[0m\n\u001b[0;32m--> 323\u001b[0;31m         \u001b[0mself\u001b[0m\u001b[0;34m.\u001b[0m\u001b[0mdraw_roads\u001b[0m\u001b[0;34m(\u001b[0m\u001b[0;34m)\u001b[0m\u001b[0;34m\u001b[0m\u001b[0;34m\u001b[0m\u001b[0m\n\u001b[0m\u001b[1;32m    324\u001b[0m         \u001b[0mself\u001b[0m\u001b[0;34m.\u001b[0m\u001b[0mdraw_vehicles\u001b[0m\u001b[0;34m(\u001b[0m\u001b[0;34m)\u001b[0m\u001b[0;34m\u001b[0m\u001b[0;34m\u001b[0m\u001b[0m\n\u001b[1;32m    325\u001b[0m         \u001b[0mself\u001b[0m\u001b[0;34m.\u001b[0m\u001b[0mdraw_signals\u001b[0m\u001b[0;34m(\u001b[0m\u001b[0;34m)\u001b[0m\u001b[0;34m\u001b[0m\u001b[0;34m\u001b[0m\u001b[0m\n",
      "\u001b[0;32m~/CUNY_MSDS/data604/traffic/trafficSimulator-main/src/trafficSimulator/window.py\u001b[0m in \u001b[0;36mdraw_roads\u001b[0;34m(self)\u001b[0m\n\u001b[1;32m    261\u001b[0m                         \u001b[0;34m(\u001b[0m\u001b[0;34m-\u001b[0m\u001b[0;36m1.25\u001b[0m\u001b[0;34m,\u001b[0m \u001b[0;36m0.2\u001b[0m\u001b[0;34m)\u001b[0m\u001b[0;34m,\u001b[0m\u001b[0;34m\u001b[0m\u001b[0;34m\u001b[0m\u001b[0m\n\u001b[1;32m    262\u001b[0m                         \u001b[0mcos\u001b[0m\u001b[0;34m=\u001b[0m\u001b[0mroad\u001b[0m\u001b[0;34m.\u001b[0m\u001b[0mangle_cos\u001b[0m\u001b[0;34m,\u001b[0m\u001b[0;34m\u001b[0m\u001b[0;34m\u001b[0m\u001b[0m\n\u001b[0;32m--> 263\u001b[0;31m                         \u001b[0msin\u001b[0m\u001b[0;34m=\u001b[0m\u001b[0mroad\u001b[0m\u001b[0;34m.\u001b[0m\u001b[0mangle_sin\u001b[0m\u001b[0;34m\u001b[0m\u001b[0;34m\u001b[0m\u001b[0m\n\u001b[0m\u001b[1;32m    264\u001b[0m                     )   \n\u001b[1;32m    265\u001b[0m \u001b[0;34m\u001b[0m\u001b[0m\n",
      "\u001b[0;32m~/CUNY_MSDS/data604/traffic/trafficSimulator-main/src/trafficSimulator/window.py\u001b[0m in \u001b[0;36marrow\u001b[0;34m(self, pos, size, angle, cos, sin, color)\u001b[0m\n\u001b[1;32m    188\u001b[0m             \u001b[0msin\u001b[0m\u001b[0;34m=\u001b[0m\u001b[0;34m(\u001b[0m\u001b[0mcos\u001b[0m \u001b[0;34m+\u001b[0m \u001b[0msin\u001b[0m\u001b[0;34m)\u001b[0m \u001b[0;34m/\u001b[0m \u001b[0mnp\u001b[0m\u001b[0;34m.\u001b[0m\u001b[0msqrt\u001b[0m\u001b[0;34m(\u001b[0m\u001b[0;36m2\u001b[0m\u001b[0;34m)\u001b[0m\u001b[0;34m,\u001b[0m\u001b[0;34m\u001b[0m\u001b[0;34m\u001b[0m\u001b[0m\n\u001b[1;32m    189\u001b[0m             \u001b[0mcolor\u001b[0m\u001b[0;34m=\u001b[0m\u001b[0mcolor\u001b[0m\u001b[0;34m,\u001b[0m\u001b[0;34m\u001b[0m\u001b[0;34m\u001b[0m\u001b[0m\n\u001b[0;32m--> 190\u001b[0;31m             \u001b[0mcentered\u001b[0m\u001b[0;34m=\u001b[0m\u001b[0;32mFalse\u001b[0m\u001b[0;34m\u001b[0m\u001b[0;34m\u001b[0m\u001b[0m\n\u001b[0m\u001b[1;32m    191\u001b[0m         )\n\u001b[1;32m    192\u001b[0m \u001b[0;34m\u001b[0m\u001b[0m\n",
      "\u001b[0;32m~/CUNY_MSDS/data604/traffic/trafficSimulator-main/src/trafficSimulator/window.py\u001b[0m in \u001b[0;36mrotated_box\u001b[0;34m(self, pos, size, angle, cos, sin, centered, color, filled)\u001b[0m\n\u001b[1;32m    170\u001b[0m         \u001b[0;32melse\u001b[0m\u001b[0;34m:\u001b[0m\u001b[0;34m\u001b[0m\u001b[0;34m\u001b[0m\u001b[0m\n\u001b[1;32m    171\u001b[0m             vertices = self.convert(\n\u001b[0;32m--> 172\u001b[0;31m                 \u001b[0;34m[\u001b[0m\u001b[0mvertex\u001b[0m\u001b[0;34m(\u001b[0m\u001b[0;34m*\u001b[0m\u001b[0me\u001b[0m\u001b[0;34m)\u001b[0m \u001b[0;32mfor\u001b[0m \u001b[0me\u001b[0m \u001b[0;32min\u001b[0m \u001b[0;34m[\u001b[0m\u001b[0;34m(\u001b[0m\u001b[0;36m0\u001b[0m\u001b[0;34m,\u001b[0m\u001b[0;34m-\u001b[0m\u001b[0;36m1\u001b[0m\u001b[0;34m)\u001b[0m\u001b[0;34m,\u001b[0m \u001b[0;34m(\u001b[0m\u001b[0;36m0\u001b[0m\u001b[0;34m,\u001b[0m \u001b[0;36m1\u001b[0m\u001b[0;34m)\u001b[0m\u001b[0;34m,\u001b[0m \u001b[0;34m(\u001b[0m\u001b[0;36m2\u001b[0m\u001b[0;34m,\u001b[0m\u001b[0;36m1\u001b[0m\u001b[0;34m)\u001b[0m\u001b[0;34m,\u001b[0m \u001b[0;34m(\u001b[0m\u001b[0;36m2\u001b[0m\u001b[0;34m,\u001b[0m\u001b[0;34m-\u001b[0m\u001b[0;36m1\u001b[0m\u001b[0;34m)\u001b[0m\u001b[0;34m]\u001b[0m\u001b[0;34m]\u001b[0m\u001b[0;34m\u001b[0m\u001b[0;34m\u001b[0m\u001b[0m\n\u001b[0m\u001b[1;32m    173\u001b[0m             )\n\u001b[1;32m    174\u001b[0m \u001b[0;34m\u001b[0m\u001b[0m\n",
      "\u001b[0;32m~/CUNY_MSDS/data604/traffic/trafficSimulator-main/src/trafficSimulator/window.py\u001b[0m in \u001b[0;36mconvert\u001b[0;34m(self, x, y)\u001b[0m\n\u001b[1;32m     98\u001b[0m         \u001b[0;34m\"\"\"Converts simulation coordinates to screen coordinates\"\"\"\u001b[0m\u001b[0;34m\u001b[0m\u001b[0;34m\u001b[0m\u001b[0m\n\u001b[1;32m     99\u001b[0m         \u001b[0;32mif\u001b[0m \u001b[0misinstance\u001b[0m\u001b[0;34m(\u001b[0m\u001b[0mx\u001b[0m\u001b[0;34m,\u001b[0m \u001b[0mlist\u001b[0m\u001b[0;34m)\u001b[0m\u001b[0;34m:\u001b[0m\u001b[0;34m\u001b[0m\u001b[0;34m\u001b[0m\u001b[0m\n\u001b[0;32m--> 100\u001b[0;31m             \u001b[0;32mreturn\u001b[0m \u001b[0;34m[\u001b[0m\u001b[0mself\u001b[0m\u001b[0;34m.\u001b[0m\u001b[0mconvert\u001b[0m\u001b[0;34m(\u001b[0m\u001b[0me\u001b[0m\u001b[0;34m[\u001b[0m\u001b[0;36m0\u001b[0m\u001b[0;34m]\u001b[0m\u001b[0;34m,\u001b[0m \u001b[0me\u001b[0m\u001b[0;34m[\u001b[0m\u001b[0;36m1\u001b[0m\u001b[0;34m]\u001b[0m\u001b[0;34m)\u001b[0m \u001b[0;32mfor\u001b[0m \u001b[0me\u001b[0m \u001b[0;32min\u001b[0m \u001b[0mx\u001b[0m\u001b[0;34m]\u001b[0m\u001b[0;34m\u001b[0m\u001b[0;34m\u001b[0m\u001b[0m\n\u001b[0m\u001b[1;32m    101\u001b[0m         \u001b[0;32mif\u001b[0m \u001b[0misinstance\u001b[0m\u001b[0;34m(\u001b[0m\u001b[0mx\u001b[0m\u001b[0;34m,\u001b[0m \u001b[0mtuple\u001b[0m\u001b[0;34m)\u001b[0m\u001b[0;34m:\u001b[0m\u001b[0;34m\u001b[0m\u001b[0;34m\u001b[0m\u001b[0m\n\u001b[1;32m    102\u001b[0m             \u001b[0;32mreturn\u001b[0m \u001b[0mself\u001b[0m\u001b[0;34m.\u001b[0m\u001b[0mconvert\u001b[0m\u001b[0;34m(\u001b[0m\u001b[0;34m*\u001b[0m\u001b[0mx\u001b[0m\u001b[0;34m)\u001b[0m\u001b[0;34m\u001b[0m\u001b[0;34m\u001b[0m\u001b[0m\n",
      "\u001b[0;32m~/CUNY_MSDS/data604/traffic/trafficSimulator-main/src/trafficSimulator/window.py\u001b[0m in \u001b[0;36m<listcomp>\u001b[0;34m(.0)\u001b[0m\n\u001b[1;32m     98\u001b[0m         \u001b[0;34m\"\"\"Converts simulation coordinates to screen coordinates\"\"\"\u001b[0m\u001b[0;34m\u001b[0m\u001b[0;34m\u001b[0m\u001b[0m\n\u001b[1;32m     99\u001b[0m         \u001b[0;32mif\u001b[0m \u001b[0misinstance\u001b[0m\u001b[0;34m(\u001b[0m\u001b[0mx\u001b[0m\u001b[0;34m,\u001b[0m \u001b[0mlist\u001b[0m\u001b[0;34m)\u001b[0m\u001b[0;34m:\u001b[0m\u001b[0;34m\u001b[0m\u001b[0;34m\u001b[0m\u001b[0m\n\u001b[0;32m--> 100\u001b[0;31m             \u001b[0;32mreturn\u001b[0m \u001b[0;34m[\u001b[0m\u001b[0mself\u001b[0m\u001b[0;34m.\u001b[0m\u001b[0mconvert\u001b[0m\u001b[0;34m(\u001b[0m\u001b[0me\u001b[0m\u001b[0;34m[\u001b[0m\u001b[0;36m0\u001b[0m\u001b[0;34m]\u001b[0m\u001b[0;34m,\u001b[0m \u001b[0me\u001b[0m\u001b[0;34m[\u001b[0m\u001b[0;36m1\u001b[0m\u001b[0;34m]\u001b[0m\u001b[0;34m)\u001b[0m \u001b[0;32mfor\u001b[0m \u001b[0me\u001b[0m \u001b[0;32min\u001b[0m \u001b[0mx\u001b[0m\u001b[0;34m]\u001b[0m\u001b[0;34m\u001b[0m\u001b[0;34m\u001b[0m\u001b[0m\n\u001b[0m\u001b[1;32m    101\u001b[0m         \u001b[0;32mif\u001b[0m \u001b[0misinstance\u001b[0m\u001b[0;34m(\u001b[0m\u001b[0mx\u001b[0m\u001b[0;34m,\u001b[0m \u001b[0mtuple\u001b[0m\u001b[0;34m)\u001b[0m\u001b[0;34m:\u001b[0m\u001b[0;34m\u001b[0m\u001b[0;34m\u001b[0m\u001b[0m\n\u001b[1;32m    102\u001b[0m             \u001b[0;32mreturn\u001b[0m \u001b[0mself\u001b[0m\u001b[0;34m.\u001b[0m\u001b[0mconvert\u001b[0m\u001b[0;34m(\u001b[0m\u001b[0;34m*\u001b[0m\u001b[0mx\u001b[0m\u001b[0;34m)\u001b[0m\u001b[0;34m\u001b[0m\u001b[0;34m\u001b[0m\u001b[0m\n",
      "\u001b[0;32m~/CUNY_MSDS/data604/traffic/trafficSimulator-main/src/trafficSimulator/window.py\u001b[0m in \u001b[0;36mconvert\u001b[0;34m(self, x, y)\u001b[0m\n\u001b[1;32m    102\u001b[0m             \u001b[0;32mreturn\u001b[0m \u001b[0mself\u001b[0m\u001b[0;34m.\u001b[0m\u001b[0mconvert\u001b[0m\u001b[0;34m(\u001b[0m\u001b[0;34m*\u001b[0m\u001b[0mx\u001b[0m\u001b[0;34m)\u001b[0m\u001b[0;34m\u001b[0m\u001b[0;34m\u001b[0m\u001b[0m\n\u001b[1;32m    103\u001b[0m         return (\n\u001b[0;32m--> 104\u001b[0;31m             \u001b[0mint\u001b[0m\u001b[0;34m(\u001b[0m\u001b[0mself\u001b[0m\u001b[0;34m.\u001b[0m\u001b[0mwidth\u001b[0m\u001b[0;34m/\u001b[0m\u001b[0;36m2\u001b[0m \u001b[0;34m+\u001b[0m \u001b[0;34m(\u001b[0m\u001b[0mx\u001b[0m \u001b[0;34m+\u001b[0m \u001b[0mself\u001b[0m\u001b[0;34m.\u001b[0m\u001b[0moffset\u001b[0m\u001b[0;34m[\u001b[0m\u001b[0;36m0\u001b[0m\u001b[0;34m]\u001b[0m\u001b[0;34m)\u001b[0m\u001b[0;34m*\u001b[0m\u001b[0mself\u001b[0m\u001b[0;34m.\u001b[0m\u001b[0mzoom\u001b[0m\u001b[0;34m)\u001b[0m\u001b[0;34m,\u001b[0m\u001b[0;34m\u001b[0m\u001b[0;34m\u001b[0m\u001b[0m\n\u001b[0m\u001b[1;32m    105\u001b[0m             \u001b[0mint\u001b[0m\u001b[0;34m(\u001b[0m\u001b[0mself\u001b[0m\u001b[0;34m.\u001b[0m\u001b[0mheight\u001b[0m\u001b[0;34m/\u001b[0m\u001b[0;36m2\u001b[0m \u001b[0;34m+\u001b[0m \u001b[0;34m(\u001b[0m\u001b[0my\u001b[0m \u001b[0;34m+\u001b[0m \u001b[0mself\u001b[0m\u001b[0;34m.\u001b[0m\u001b[0moffset\u001b[0m\u001b[0;34m[\u001b[0m\u001b[0;36m1\u001b[0m\u001b[0;34m]\u001b[0m\u001b[0;34m)\u001b[0m\u001b[0;34m*\u001b[0m\u001b[0mself\u001b[0m\u001b[0;34m.\u001b[0m\u001b[0mzoom\u001b[0m\u001b[0;34m)\u001b[0m\u001b[0;34m\u001b[0m\u001b[0;34m\u001b[0m\u001b[0m\n\u001b[1;32m    106\u001b[0m         )\n",
      "\u001b[0;31mKeyboardInterrupt\u001b[0m: "
     ]
    }
   ],
   "source": [
    "# Start simulation\n",
    "\n",
    "win = Window(sim3)\n",
    "win.zoom = 5  # use two fingers to change this zoom while running\n",
    "win.run(steps_per_update=3)  # controls the speed of the visualization (higher = faster)"
   ]
  },
  {
   "cell_type": "code",
   "execution_count": 6,
   "metadata": {},
   "outputs": [
    {
     "data": {
      "text/html": [
       "<div>\n",
       "<style scoped>\n",
       "    .dataframe tbody tr th:only-of-type {\n",
       "        vertical-align: middle;\n",
       "    }\n",
       "\n",
       "    .dataframe tbody tr th {\n",
       "        vertical-align: top;\n",
       "    }\n",
       "\n",
       "    .dataframe thead th {\n",
       "        text-align: right;\n",
       "    }\n",
       "</style>\n",
       "<table border=\"1\" class=\"dataframe\">\n",
       "  <thead>\n",
       "    <tr style=\"text-align: right;\">\n",
       "      <th></th>\n",
       "      <th>Road</th>\n",
       "      <th>enter_Q</th>\n",
       "      <th>time_needed</th>\n",
       "      <th>exit_Q</th>\n",
       "      <th>direction</th>\n",
       "    </tr>\n",
       "  </thead>\n",
       "  <tbody>\n",
       "    <tr>\n",
       "      <td>0</td>\n",
       "      <td>2</td>\n",
       "      <td>14.48</td>\n",
       "      <td>2</td>\n",
       "      <td>15.45</td>\n",
       "      <td>RIGHT</td>\n",
       "    </tr>\n",
       "    <tr>\n",
       "      <td>1</td>\n",
       "      <td>1</td>\n",
       "      <td>15.99</td>\n",
       "      <td>2</td>\n",
       "      <td>17.61</td>\n",
       "      <td>RIGHT</td>\n",
       "    </tr>\n",
       "    <tr>\n",
       "      <td>2</td>\n",
       "      <td>1</td>\n",
       "      <td>19.12</td>\n",
       "      <td>2</td>\n",
       "      <td>20.22</td>\n",
       "      <td>STRAIGHT</td>\n",
       "    </tr>\n",
       "    <tr>\n",
       "      <td>3</td>\n",
       "      <td>1</td>\n",
       "      <td>21.69</td>\n",
       "      <td>2</td>\n",
       "      <td>22.80</td>\n",
       "      <td>STRAIGHT</td>\n",
       "    </tr>\n",
       "    <tr>\n",
       "      <td>4</td>\n",
       "      <td>0</td>\n",
       "      <td>22.03</td>\n",
       "      <td>3</td>\n",
       "      <td>23.96</td>\n",
       "      <td>LEFT</td>\n",
       "    </tr>\n",
       "  </tbody>\n",
       "</table>\n",
       "</div>"
      ],
      "text/plain": [
       "   Road  enter_Q  time_needed  exit_Q direction\n",
       "0     2    14.48            2   15.45     RIGHT\n",
       "1     1    15.99            2   17.61     RIGHT\n",
       "2     1    19.12            2   20.22  STRAIGHT\n",
       "3     1    21.69            2   22.80  STRAIGHT\n",
       "4     0    22.03            3   23.96      LEFT"
      ]
     },
     "execution_count": 6,
     "metadata": {},
     "output_type": "execute_result"
    }
   ],
   "source": [
    "SIM_3_DF = logDF(sim3.popped)\n",
    "SIM_3_DF.head()"
   ]
  },
  {
   "cell_type": "code",
   "execution_count": 9,
   "metadata": {},
   "outputs": [
    {
     "data": {
      "text/plain": [
       "118"
      ]
     },
     "execution_count": 9,
     "metadata": {},
     "output_type": "execute_result"
    }
   ],
   "source": [
    "len(sim3.popped)"
   ]
  },
  {
   "cell_type": "markdown",
   "metadata": {},
   "source": [
    "That one got backed up coming from the West towards the popular East direction, which maybe makes sense.  The weightings for that West-East road were 4 straight to 1 left and 1 right.  But the South-North road eventually jammed up too, so I cut it off at 118 cars through.  There's a precarious balance with the physics and the threading colliding here like the cars in the intersections, and each configuration really needs its own dynamics to work, the way I have it designed.  For the sake of a good flow into SimPy, I'll use the data from SIM_1 for now, and hope to come back to this project in the future with some clever adjustments."
   ]
  },
  {
   "cell_type": "code",
   "execution_count": 10,
   "metadata": {},
   "outputs": [],
   "source": [
    "#SIM_3_DF.to_csv(\"SIM_3_DF.csv\")"
   ]
  },
  {
   "cell_type": "markdown",
   "metadata": {},
   "source": [
    "## Part 2 -- Feeding the cars into SimPy to see how efficient it is with different traffic rules."
   ]
  },
  {
   "cell_type": "markdown",
   "metadata": {},
   "source": [
    "I'll feed the cars into the simpy \"intersection\" one by one first, as they entered the simulated flow intersection above.   Then I'll see how much quicker things flow if cars are allowed to alternate turns N-S roads then E-W roads, where there are pairs of such cars queued up and one is going straight while the other is not turning left.  So just like real life."
   ]
  },
  {
   "cell_type": "code",
   "execution_count": 51,
   "metadata": {},
   "outputs": [],
   "source": [
    "env = sp.Environment()\n",
    "turn = sp.PriorityResource(env, capacity=1)  # one car at a time thru intersection, for now\n",
    "log = []\n",
    "\n",
    "def next_car(log, envir, resource, road, direction, t_req, t_queue, priority=1, name='carl'):\n",
    "    \n",
    "    times = {\"LEFT\": 3, \"STRAIGHT\": 2, \"RIGHT\": 2}\n",
    "    \n",
    "    with resource.request(priority=priority) as req:\n",
    "        #print(f'{name} on road {road} requesting at {t_enter} with priority={priority}')\n",
    "        yield req\n",
    "        #print(f'{name} on road {road} entered the intersection at {t_enter}')\n",
    "        yield env.timeout(times[direction] + t_queue)\n",
    "        #print(f'{name} on road {road} left intersection at {env.now}')\n",
    "        log.append((env.now, t_enter, road, direction, name))\n",
    "    return log"
   ]
  },
  {
   "cell_type": "markdown",
   "metadata": {},
   "source": [
    "These times through the intersection (left turn = 3 units, right and straight = 2 each) are the same as the ones I used for the generator simulator.  There's a big difference between the two uses, of course.  The times aren't to compare SimPy to pygame, but just to compare SimPy to SimPy.  The pygame numbers involve all the nastiness of a busy intersection, and if you watched the simulations above, you noticed how cars were colliding often in the intersections, and cutting it pretty close many other times. But if there was strict alternation, better coding, and perfect drivers, those are pretty much the times it would've taken the cars to enter and exit the intersection.  \n",
    "\n",
    "All those cars were individual Agents in Part 1, subject to all sorts of fluctuations, and it's actually fun to stare at it for awhile and realize that \"someone is just sitting there jamming things up, even though it's their turn.\"  You can almost hear the honking and see the birds being flipped at the person who is texting at the wheel.  But SimPy will offer a nice, clean break from that real-world nonsense, by reducing all the Agents and threads and physics to just one omnipotent machine of reason.  "
   ]
  },
  {
   "cell_type": "code",
   "execution_count": 13,
   "metadata": {},
   "outputs": [
    {
     "data": {
      "text/html": [
       "<div>\n",
       "<style scoped>\n",
       "    .dataframe tbody tr th:only-of-type {\n",
       "        vertical-align: middle;\n",
       "    }\n",
       "\n",
       "    .dataframe tbody tr th {\n",
       "        vertical-align: top;\n",
       "    }\n",
       "\n",
       "    .dataframe thead th {\n",
       "        text-align: right;\n",
       "    }\n",
       "</style>\n",
       "<table border=\"1\" class=\"dataframe\">\n",
       "  <thead>\n",
       "    <tr style=\"text-align: right;\">\n",
       "      <th></th>\n",
       "      <th>Road</th>\n",
       "      <th>enter_Q</th>\n",
       "      <th>time_needed</th>\n",
       "      <th>exit_Q</th>\n",
       "      <th>direction</th>\n",
       "    </tr>\n",
       "  </thead>\n",
       "  <tbody>\n",
       "    <tr>\n",
       "      <td>0</td>\n",
       "      <td>2</td>\n",
       "      <td>14.48</td>\n",
       "      <td>2</td>\n",
       "      <td>15.45</td>\n",
       "      <td>STRAIGHT</td>\n",
       "    </tr>\n",
       "    <tr>\n",
       "      <td>1</td>\n",
       "      <td>1</td>\n",
       "      <td>15.99</td>\n",
       "      <td>2</td>\n",
       "      <td>17.61</td>\n",
       "      <td>RIGHT</td>\n",
       "    </tr>\n",
       "    <tr>\n",
       "      <td>2</td>\n",
       "      <td>1</td>\n",
       "      <td>19.12</td>\n",
       "      <td>2</td>\n",
       "      <td>20.22</td>\n",
       "      <td>STRAIGHT</td>\n",
       "    </tr>\n",
       "    <tr>\n",
       "      <td>3</td>\n",
       "      <td>1</td>\n",
       "      <td>21.69</td>\n",
       "      <td>2</td>\n",
       "      <td>22.80</td>\n",
       "      <td>STRAIGHT</td>\n",
       "    </tr>\n",
       "    <tr>\n",
       "      <td>4</td>\n",
       "      <td>0</td>\n",
       "      <td>23.54</td>\n",
       "      <td>2</td>\n",
       "      <td>25.03</td>\n",
       "      <td>STRAIGHT</td>\n",
       "    </tr>\n",
       "  </tbody>\n",
       "</table>\n",
       "</div>"
      ],
      "text/plain": [
       "   Road  enter_Q  time_needed  exit_Q direction\n",
       "0     2    14.48            2   15.45  STRAIGHT\n",
       "1     1    15.99            2   17.61     RIGHT\n",
       "2     1    19.12            2   20.22  STRAIGHT\n",
       "3     1    21.69            2   22.80  STRAIGHT\n",
       "4     0    23.54            2   25.03  STRAIGHT"
      ]
     },
     "execution_count": 13,
     "metadata": {},
     "output_type": "execute_result"
    }
   ],
   "source": [
    "flowDF = pd.read_csv('SIM_1_DF.csv', index_col=0)\n",
    "flowDF.head()"
   ]
  },
  {
   "cell_type": "code",
   "execution_count": 14,
   "metadata": {},
   "outputs": [
    {
     "data": {
      "text/html": [
       "<div>\n",
       "<style scoped>\n",
       "    .dataframe tbody tr th:only-of-type {\n",
       "        vertical-align: middle;\n",
       "    }\n",
       "\n",
       "    .dataframe tbody tr th {\n",
       "        vertical-align: top;\n",
       "    }\n",
       "\n",
       "    .dataframe thead th {\n",
       "        text-align: right;\n",
       "    }\n",
       "</style>\n",
       "<table border=\"1\" class=\"dataframe\">\n",
       "  <thead>\n",
       "    <tr style=\"text-align: right;\">\n",
       "      <th></th>\n",
       "      <th>Road</th>\n",
       "      <th>enter_Q</th>\n",
       "      <th>time_needed</th>\n",
       "      <th>exit_Q</th>\n",
       "      <th>direction</th>\n",
       "    </tr>\n",
       "  </thead>\n",
       "  <tbody>\n",
       "    <tr>\n",
       "      <td>245</td>\n",
       "      <td>3</td>\n",
       "      <td>387.92</td>\n",
       "      <td>2</td>\n",
       "      <td>390.29</td>\n",
       "      <td>STRAIGHT</td>\n",
       "    </tr>\n",
       "    <tr>\n",
       "      <td>246</td>\n",
       "      <td>2</td>\n",
       "      <td>388.42</td>\n",
       "      <td>3</td>\n",
       "      <td>390.35</td>\n",
       "      <td>LEFT</td>\n",
       "    </tr>\n",
       "    <tr>\n",
       "      <td>247</td>\n",
       "      <td>3</td>\n",
       "      <td>391.51</td>\n",
       "      <td>2</td>\n",
       "      <td>393.63</td>\n",
       "      <td>RIGHT</td>\n",
       "    </tr>\n",
       "    <tr>\n",
       "      <td>248</td>\n",
       "      <td>1</td>\n",
       "      <td>391.64</td>\n",
       "      <td>2</td>\n",
       "      <td>393.64</td>\n",
       "      <td>RIGHT</td>\n",
       "    </tr>\n",
       "    <tr>\n",
       "      <td>249</td>\n",
       "      <td>2</td>\n",
       "      <td>391.70</td>\n",
       "      <td>2</td>\n",
       "      <td>393.69</td>\n",
       "      <td>STRAIGHT</td>\n",
       "    </tr>\n",
       "  </tbody>\n",
       "</table>\n",
       "</div>"
      ],
      "text/plain": [
       "     Road  enter_Q  time_needed  exit_Q direction\n",
       "245     3   387.92            2  390.29  STRAIGHT\n",
       "246     2   388.42            3  390.35      LEFT\n",
       "247     3   391.51            2  393.63     RIGHT\n",
       "248     1   391.64            2  393.64     RIGHT\n",
       "249     2   391.70            2  393.69  STRAIGHT"
      ]
     },
     "execution_count": 14,
     "metadata": {},
     "output_type": "execute_result"
    }
   ],
   "source": [
    "flowDF.tail()"
   ]
  },
  {
   "cell_type": "markdown",
   "metadata": {},
   "source": [
    "Looking at the head and tail of the data there, you can see, as expected, that the time spent in the intersection queue got longer as time went on and traffic backed up somewhat.  The first five cars through spent about 1-1.5 seconds each from they time they turned yellow in the simulation to when they turned green again as they entered the intersection.  The last five times were about 2 seconds each, and that's the simulation where things were flowing most smoothly.  \n",
    "\n",
    "It's debatable whether to use the entry time or the exit time, or maybe the average of the two.  But I'll use the entry time here to feed into SimPy, and to compensate, I'll add the waiting time into the clean, theoretical times.  Again, the point isn't to compare simpy to the previous flow simulation that generated the data, but the point is to model reality, and the reality is that things take longer as traffic builds.  "
   ]
  },
  {
   "cell_type": "code",
   "execution_count": 16,
   "metadata": {},
   "outputs": [
    {
     "data": {
      "text/html": [
       "<div>\n",
       "<style scoped>\n",
       "    .dataframe tbody tr th:only-of-type {\n",
       "        vertical-align: middle;\n",
       "    }\n",
       "\n",
       "    .dataframe tbody tr th {\n",
       "        vertical-align: top;\n",
       "    }\n",
       "\n",
       "    .dataframe thead th {\n",
       "        text-align: right;\n",
       "    }\n",
       "</style>\n",
       "<table border=\"1\" class=\"dataframe\">\n",
       "  <thead>\n",
       "    <tr style=\"text-align: right;\">\n",
       "      <th></th>\n",
       "      <th>Road</th>\n",
       "      <th>enter_Q</th>\n",
       "      <th>time_needed</th>\n",
       "      <th>exit_Q</th>\n",
       "      <th>direction</th>\n",
       "      <th>t_q</th>\n",
       "    </tr>\n",
       "  </thead>\n",
       "  <tbody>\n",
       "    <tr>\n",
       "      <td>0</td>\n",
       "      <td>2</td>\n",
       "      <td>14.48</td>\n",
       "      <td>2</td>\n",
       "      <td>15.45</td>\n",
       "      <td>STRAIGHT</td>\n",
       "      <td>0.97</td>\n",
       "    </tr>\n",
       "  </tbody>\n",
       "</table>\n",
       "</div>"
      ],
      "text/plain": [
       "   Road  enter_Q  time_needed  exit_Q direction   t_q\n",
       "0     2    14.48            2   15.45  STRAIGHT  0.97"
      ]
     },
     "execution_count": 16,
     "metadata": {},
     "output_type": "execute_result"
    }
   ],
   "source": [
    "flowDF['t_q'] = flowDF.exit_Q - flowDF.enter_Q\n",
    "flowDF.head(1)"
   ]
  },
  {
   "cell_type": "code",
   "execution_count": 41,
   "metadata": {},
   "outputs": [],
   "source": [
    "for i in flowDF.index:\n",
    "    car = flowDF.loc[i]\n",
    "    env.process(next_car(log, env, turn, car.Road, car.direction,\n",
    "                         car.t_q, priority=1, name='car_' + str(i)))"
   ]
  },
  {
   "cell_type": "code",
   "execution_count": 42,
   "metadata": {},
   "outputs": [],
   "source": [
    "env.run()"
   ]
  },
  {
   "cell_type": "code",
   "execution_count": 45,
   "metadata": {},
   "outputs": [
    {
     "data": {
      "text/html": [
       "<div>\n",
       "<style scoped>\n",
       "    .dataframe tbody tr th:only-of-type {\n",
       "        vertical-align: middle;\n",
       "    }\n",
       "\n",
       "    .dataframe tbody tr th {\n",
       "        vertical-align: top;\n",
       "    }\n",
       "\n",
       "    .dataframe thead th {\n",
       "        text-align: right;\n",
       "    }\n",
       "</style>\n",
       "<table border=\"1\" class=\"dataframe\">\n",
       "  <thead>\n",
       "    <tr style=\"text-align: right;\">\n",
       "      <th></th>\n",
       "      <th>out</th>\n",
       "      <th>in</th>\n",
       "      <th>road</th>\n",
       "      <th>direction</th>\n",
       "      <th>name</th>\n",
       "    </tr>\n",
       "  </thead>\n",
       "  <tbody>\n",
       "    <tr>\n",
       "      <td>0</td>\n",
       "      <td>2.97</td>\n",
       "      <td>0</td>\n",
       "      <td>2</td>\n",
       "      <td>STRAIGHT</td>\n",
       "      <td>car_0</td>\n",
       "    </tr>\n",
       "    <tr>\n",
       "      <td>1</td>\n",
       "      <td>6.59</td>\n",
       "      <td>0</td>\n",
       "      <td>1</td>\n",
       "      <td>RIGHT</td>\n",
       "      <td>car_1</td>\n",
       "    </tr>\n",
       "    <tr>\n",
       "      <td>2</td>\n",
       "      <td>9.69</td>\n",
       "      <td>0</td>\n",
       "      <td>1</td>\n",
       "      <td>STRAIGHT</td>\n",
       "      <td>car_2</td>\n",
       "    </tr>\n",
       "    <tr>\n",
       "      <td>3</td>\n",
       "      <td>12.80</td>\n",
       "      <td>0</td>\n",
       "      <td>1</td>\n",
       "      <td>STRAIGHT</td>\n",
       "      <td>car_3</td>\n",
       "    </tr>\n",
       "    <tr>\n",
       "      <td>4</td>\n",
       "      <td>16.29</td>\n",
       "      <td>0</td>\n",
       "      <td>0</td>\n",
       "      <td>STRAIGHT</td>\n",
       "      <td>car_4</td>\n",
       "    </tr>\n",
       "    <tr>\n",
       "      <td>...</td>\n",
       "      <td>...</td>\n",
       "      <td>...</td>\n",
       "      <td>...</td>\n",
       "      <td>...</td>\n",
       "      <td>...</td>\n",
       "    </tr>\n",
       "    <tr>\n",
       "      <td>245</td>\n",
       "      <td>1083.53</td>\n",
       "      <td>0</td>\n",
       "      <td>3</td>\n",
       "      <td>STRAIGHT</td>\n",
       "      <td>car_245</td>\n",
       "    </tr>\n",
       "    <tr>\n",
       "      <td>246</td>\n",
       "      <td>1088.46</td>\n",
       "      <td>0</td>\n",
       "      <td>2</td>\n",
       "      <td>LEFT</td>\n",
       "      <td>car_246</td>\n",
       "    </tr>\n",
       "    <tr>\n",
       "      <td>247</td>\n",
       "      <td>1092.58</td>\n",
       "      <td>0</td>\n",
       "      <td>3</td>\n",
       "      <td>RIGHT</td>\n",
       "      <td>car_247</td>\n",
       "    </tr>\n",
       "    <tr>\n",
       "      <td>248</td>\n",
       "      <td>1096.58</td>\n",
       "      <td>0</td>\n",
       "      <td>1</td>\n",
       "      <td>RIGHT</td>\n",
       "      <td>car_248</td>\n",
       "    </tr>\n",
       "    <tr>\n",
       "      <td>249</td>\n",
       "      <td>1100.57</td>\n",
       "      <td>0</td>\n",
       "      <td>2</td>\n",
       "      <td>STRAIGHT</td>\n",
       "      <td>car_249</td>\n",
       "    </tr>\n",
       "  </tbody>\n",
       "</table>\n",
       "<p>250 rows × 5 columns</p>\n",
       "</div>"
      ],
      "text/plain": [
       "         out  in  road direction     name\n",
       "0       2.97   0     2  STRAIGHT    car_0\n",
       "1       6.59   0     1     RIGHT    car_1\n",
       "2       9.69   0     1  STRAIGHT    car_2\n",
       "3      12.80   0     1  STRAIGHT    car_3\n",
       "4      16.29   0     0  STRAIGHT    car_4\n",
       "..       ...  ..   ...       ...      ...\n",
       "245  1083.53   0     3  STRAIGHT  car_245\n",
       "246  1088.46   0     2      LEFT  car_246\n",
       "247  1092.58   0     3     RIGHT  car_247\n",
       "248  1096.58   0     1     RIGHT  car_248\n",
       "249  1100.57   0     2  STRAIGHT  car_249\n",
       "\n",
       "[250 rows x 5 columns]"
      ]
     },
     "execution_count": 45,
     "metadata": {},
     "output_type": "execute_result"
    }
   ],
   "source": [
    "pd.DataFrame(log, columns=[\"out\", \"in\", 'road', 'direction', 'name'])"
   ]
  },
  {
   "cell_type": "code",
   "execution_count": null,
   "metadata": {},
   "outputs": [],
   "source": []
  },
  {
   "cell_type": "code",
   "execution_count": null,
   "metadata": {},
   "outputs": [],
   "source": []
  },
  {
   "cell_type": "code",
   "execution_count": 54,
   "metadata": {},
   "outputs": [
    {
     "name": "stdout",
     "output_type": "stream",
     "text": [
      "3\n"
     ]
    },
    {
     "data": {
      "text/plain": [
       "23"
      ]
     },
     "execution_count": 54,
     "metadata": {},
     "output_type": "execute_result"
    }
   ],
   "source": [
    "from simpy.util import start_delayed\n",
    "env = sp.Environment()\n",
    "def sub(env):\n",
    "    print(env.now)\n",
    "    yield env.timeout(1)\n",
    "    \n",
    "    return 23\n",
    "def parent(env):\n",
    "    sub_proc = yield start_delayed(env, sub(env), delay=3)\n",
    "    ret = yield sub_proc\n",
    "    return ret\n",
    "env.run(env.process(parent(env)))\n"
   ]
  },
  {
   "cell_type": "code",
   "execution_count": 50,
   "metadata": {},
   "outputs": [],
   "source": [
    "start_delayed?"
   ]
  },
  {
   "cell_type": "code",
   "execution_count": 51,
   "metadata": {},
   "outputs": [],
   "source": [
    "env = sp.Environment()\n",
    "turn = sp.PriorityResource(env, capacity=1)  # one car at a time thru intersection, for now\n",
    "log = []\n",
    "\n",
    "def next_car(log, envir, resource, road, direction, t_req, t_queue, priority=1, name='carl'):\n",
    "    \n",
    "    times = {\"LEFT\": 3, \"STRAIGHT\": 2, \"RIGHT\": 2}\n",
    "    \n",
    "    with resource.request(priority=priority) as req:\n",
    "        #print(f'{name} on road {road} requesting at {t_enter} with priority={priority}')\n",
    "        yield req\n",
    "        #print(f'{name} on road {road} entered the intersection at {t_enter}')\n",
    "        yield env.timeout(times[direction] + t_queue)\n",
    "        #print(f'{name} on road {road} left intersection at {env.now}')\n",
    "        log.append((env.now, t_enter, road, direction, name))\n",
    "    return log"
   ]
  }
 ],
 "metadata": {
  "kernelspec": {
   "display_name": "Python 3",
   "language": "python",
   "name": "python3"
  },
  "language_info": {
   "codemirror_mode": {
    "name": "ipython",
    "version": 3
   },
   "file_extension": ".py",
   "mimetype": "text/x-python",
   "name": "python",
   "nbconvert_exporter": "python",
   "pygments_lexer": "ipython3",
   "version": "3.7.4"
  }
 },
 "nbformat": 4,
 "nbformat_minor": 2
}
